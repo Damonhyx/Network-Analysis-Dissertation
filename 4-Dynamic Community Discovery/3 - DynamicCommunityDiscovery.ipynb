{
 "cells": [
  {
   "cell_type": "code",
   "execution_count": 14,
   "id": "caf8bc02",
   "metadata": {},
   "outputs": [
    {
     "name": "stdout",
     "output_type": "stream",
     "text": [
      "Note: to be able to use all crisp methods, you need to install some additional packages:  {'infomap', 'leidenalg', 'karateclub'}\n",
      "Note: to be able to use all overlapping methods, you need to install some additional packages:  {'ASLPAw', 'karateclub'}\n",
      "Note: to be able to use all bipartite methods, you need to install some additional packages:  {'infomap', 'leidenalg'}\n"
     ]
    }
   ],
   "source": [
    "from cdlib import algorithms, evaluation\n",
    "from cdlib import TemporalClustering"
   ]
  },
  {
   "cell_type": "code",
   "execution_count": 1,
   "id": "0354a684",
   "metadata": {},
   "outputs": [],
   "source": [
    "import pandas as pd"
   ]
  },
  {
   "cell_type": "code",
   "execution_count": 2,
   "id": "823eab56",
   "metadata": {},
   "outputs": [],
   "source": [
    "import matplotlib.pyplot as plt"
   ]
  },
  {
   "cell_type": "code",
   "execution_count": 3,
   "id": "94bf2f59",
   "metadata": {},
   "outputs": [],
   "source": [
    "import networkx as nx"
   ]
  },
  {
   "cell_type": "code",
   "execution_count": 4,
   "id": "bafedd20",
   "metadata": {},
   "outputs": [],
   "source": [
    "import pickle"
   ]
  },
  {
   "cell_type": "code",
   "execution_count": 10,
   "id": "a1bedc35",
   "metadata": {},
   "outputs": [],
   "source": [
    "#Per plottare le communities per dimensione\n",
    "def plot_communities_dimentions(coms):\n",
    "    myd = {}\n",
    "    for t in coms:\n",
    "        lunghezza = len(t)\n",
    "\n",
    "        if str(lunghezza) in myd:\n",
    "            myd[str(lunghezza)] = myd[str(lunghezza)] + 1\n",
    "        else:\n",
    "            myd[str(lunghezza)] = 1\n",
    "\n",
    "    print(myd)\n",
    "    plt.figure(figsize=(20,5))\n",
    "    plt.bar(myd.keys(), myd.values(), color='b')"
   ]
  },
  {
   "cell_type": "code",
   "execution_count": 11,
   "id": "d980cc06",
   "metadata": {},
   "outputs": [],
   "source": [
    "coms_months = []\n",
    "for i in range(6):\n",
    "    with open(f'/Users/damon/Desktop/Dessertion/4-Dynamic Community Discovery/communities_{i}.pickle', 'rb') as f:\n",
    "        louvain_coms = pickle.load(f)\n",
    "    coms_months.append(louvain_coms)"
   ]
  },
  {
   "cell_type": "code",
   "execution_count": 12,
   "id": "02525ad4",
   "metadata": {},
   "outputs": [
    {
     "name": "stdout",
     "output_type": "stream",
     "text": [
      "35 - 115\n",
      "20 - 106\n",
      "27 - 80\n",
      "21 - 94\n",
      "20 - 93\n",
      "19 - 89\n"
     ]
    }
   ],
   "source": [
    "for i in coms_months:\n",
    "    \n",
    "    max_c=0\n",
    "    for com in i.communities:\n",
    "        if(len(com)>max_c):\n",
    "            max_c = len(com)\n",
    "    print(str(len(i.communities)) + \" - \" + str(max_c))"
   ]
  },
  {
   "cell_type": "code",
   "execution_count": 15,
   "id": "e2e22548",
   "metadata": {},
   "outputs": [],
   "source": [
    "tc = TemporalClustering()\n",
    "for t in range(6):\n",
    "    tc.add_clustering(coms_months[t], t)"
   ]
  },
  {
   "cell_type": "code",
   "execution_count": 16,
   "id": "1e533cd3",
   "metadata": {},
   "outputs": [
    {
     "data": {
      "text/plain": [
       "[0, 1, 2, 3, 4, 5]"
      ]
     },
     "execution_count": 16,
     "metadata": {},
     "output_type": "execute_result"
    }
   ],
   "source": [
    "tc.get_observation_ids()"
   ]
  },
  {
   "cell_type": "markdown",
   "id": "fa60d990",
   "metadata": {},
   "source": [
    "Una semplice misura della stabilità temporale è il \"clustering stability trend\" <br>\n",
    "Dato come input un TemporalClustering e un punteggio di somiglianza delle partizioni (ad esempio, NMI, NF1...) tale trend descrive quante partizioni tendono a rimanere le stesse con il passare del tempo.\n",
    "\n",
    "L'indice di stabilità viene calcolato per coppie di cluster temporalmente adiacenti."
   ]
  },
  {
   "cell_type": "code",
   "execution_count": 17,
   "id": "45bc3559",
   "metadata": {
    "scrolled": true
   },
   "outputs": [
    {
     "data": {
      "text/plain": [
       "[0.01375,\n",
       " 0.03239999999999999,\n",
       " 0.0138961038961039,\n",
       " 0.0282312925170068,\n",
       " 0.035614035087719306]"
      ]
     },
     "execution_count": 17,
     "metadata": {},
     "output_type": "execute_result"
    }
   ],
   "source": [
    "trend = tc.clustering_stability_trend(evaluation.nf1)\n",
    "trend"
   ]
  },
  {
   "cell_type": "markdown",
   "id": "1c2d2fae",
   "metadata": {},
   "source": [
    "Poiché il nostro obiettivo è trasformare un algoritmo statico in uno dinamico, una volta calcolati i clustering dobbiamo abbinarli tra id temporali consecutivi."
   ]
  },
  {
   "cell_type": "code",
   "execution_count": 18,
   "id": "7f88ddc8",
   "metadata": {},
   "outputs": [
    {
     "data": {
      "text/plain": [
       "False"
      ]
     },
     "execution_count": 18,
     "metadata": {},
     "output_type": "execute_result"
    }
   ],
   "source": [
    "tc.has_explicit_match()"
   ]
  },
  {
   "cell_type": "markdown",
   "id": "db5efc4b",
   "metadata": {},
   "source": [
    "Dall'approccio personalizzato non è venuto fuori però un abbinamento esplicito.\n",
    "Si definisce una funzione di somiglianza (prendendo come input due set e restituendo un valore float) per eseguire tale corrispondenza intertemporale"
   ]
  },
  {
   "cell_type": "code",
   "execution_count": 19,
   "id": "a3eabf92",
   "metadata": {},
   "outputs": [],
   "source": [
    "# una funzione di similarità il cui co-dominio è in [0, 1]\n",
    "jaccard = lambda x, y: len(set(x) & set(y)) / len(set(x) | set(y))"
   ]
  },
  {
   "cell_type": "markdown",
   "id": "298e8bb6",
   "metadata": {},
   "source": [
    "Successivamente possiamo applicarlo alla nostra partizione temporale, specificando se deve essere applicato solo dal passato al futuro (un lato) o anche dal futuro al passato (due lati).\n",
    "\n",
    "Il primo scenario consente di identificare eventi di merge, il secondo anche di split."
   ]
  },
  {
   "cell_type": "code",
   "execution_count": 20,
   "id": "3169184a",
   "metadata": {},
   "outputs": [],
   "source": [
    "matches = tc.community_matching(jaccard, two_sided=True)"
   ]
  },
  {
   "cell_type": "markdown",
   "id": "59329ecf",
   "metadata": {},
   "source": [
    "community_matching restituisce una lista di tuple della forma: <br>\n",
    "                (Ti_Ca, Tj_Cb, score) <br>\n",
    "I nomi di comunità vengono assegnati seguendo lo schema {tid}_{cid}, dove tid è il tempo di osservazione e cid è la posizione della comunità all'interno dell'oggetto Clustering."
   ]
  },
  {
   "cell_type": "markdown",
   "id": "ebf9b959",
   "metadata": {},
   "source": [
    "Una volta ottenuta la corrispondenza tra le comunità, possiamo calcolare il loro grafo del ciclo di vita: un polytree diretto che rappresenta la trasformazione della comunità nel tempo."
   ]
  },
  {
   "cell_type": "code",
   "execution_count": 21,
   "id": "f1f02380",
   "metadata": {},
   "outputs": [],
   "source": [
    "com_polytree = tc.lifecycle_polytree(jaccard, two_sided=True)"
   ]
  },
  {
   "cell_type": "code",
   "execution_count": 22,
   "id": "9d4d4411",
   "metadata": {},
   "outputs": [],
   "source": [
    "edges = list(com_polytree.edges(data=True))"
   ]
  },
  {
   "cell_type": "code",
   "execution_count": 23,
   "id": "52c5ffeb",
   "metadata": {},
   "outputs": [
    {
     "data": {
      "text/plain": [
       "('0_0', '1_2', {'weight': 0.15625})"
      ]
     },
     "execution_count": 23,
     "metadata": {},
     "output_type": "execute_result"
    }
   ],
   "source": [
    "edges[0]"
   ]
  },
  {
   "cell_type": "code",
   "execution_count": 24,
   "id": "c57c5404",
   "metadata": {},
   "outputs": [],
   "source": [
    "new = com_polytree.edge_subgraph([edges[0][0:2]]).copy()"
   ]
  },
  {
   "cell_type": "code",
   "execution_count": 25,
   "id": "ef32563d",
   "metadata": {},
   "outputs": [
    {
     "data": {
      "text/plain": [
       "OutEdgeDataView([('0_0', '1_2', {'weight': 0.15625})])"
      ]
     },
     "execution_count": 25,
     "metadata": {},
     "output_type": "execute_result"
    }
   ],
   "source": [
    "new.edges(data=True)"
   ]
  },
  {
   "cell_type": "code",
   "execution_count": 26,
   "id": "71d234e8",
   "metadata": {},
   "outputs": [],
   "source": [
    "selelected_edges = []"
   ]
  },
  {
   "cell_type": "code",
   "execution_count": 27,
   "id": "6e658ee5",
   "metadata": {},
   "outputs": [],
   "source": [
    "for i in edges:\n",
    "    if i[2][\"weight\"] > 0:\n",
    "        selelected_edges.append(i[0:2])\n",
    "new_polytree = com_polytree.edge_subgraph(selelected_edges).copy()"
   ]
  },
  {
   "cell_type": "code",
   "execution_count": 28,
   "id": "7536ee33",
   "metadata": {},
   "outputs": [
    {
     "data": {
      "image/png": "[encoded data removed]",
      "text/plain": [
       "<Figure size 432x288 with 1 Axes>"
      ]
     },
     "metadata": {},
     "output_type": "display_data"
    }
   ],
   "source": [
    "for nodes in nx.weakly_connected_components(new_polytree):\n",
    "    sub =  com_polytree.subgraph(nodes)\n",
    "    nx.draw(sub, pos=nx.spring_layout(sub), with_labels=True)"
   ]
  },
  {
   "cell_type": "code",
   "execution_count": null,
   "id": "710258ca",
   "metadata": {},
   "outputs": [],
   "source": []
  },
  {
   "cell_type": "code",
   "execution_count": 29,
   "id": "f6230a74",
   "metadata": {},
   "outputs": [],
   "source": [
    "n_nodes = []\n",
    "month_com = []\n",
    "for i in list(new_polytree.nodes()):\n",
    "    month_com.append(int(i.split(\"_\")[0]))\n",
    "    n_nodes.append(i)"
   ]
  },
  {
   "cell_type": "code",
   "execution_count": 30,
   "id": "84f0d27c",
   "metadata": {},
   "outputs": [],
   "source": [
    "s_edges = []\n",
    "t_edges = []\n",
    "for i in list(new_polytree.edges()):\n",
    "    s_edges.append(i[0])\n",
    "    t_edges.append(i[1])"
   ]
  },
  {
   "cell_type": "code",
   "execution_count": 31,
   "id": "158e77f0",
   "metadata": {},
   "outputs": [],
   "source": [
    "new_df = pd.DataFrame({\"Id\": n_nodes, \"month\": month_com})\n",
    "new_df.to_csv(\"nodes.csv\", index=False)"
   ]
  },
  {
   "cell_type": "code",
   "execution_count": 32,
   "id": "66d959cb",
   "metadata": {},
   "outputs": [],
   "source": [
    "new_df = pd.DataFrame({\"Source\": s_edges, \"Target\": t_edges})\n",
    "new_df.to_csv(\"edges.csv\", index=False)"
   ]
  },
  {
   "cell_type": "code",
   "execution_count": 33,
   "id": "f36fc0e0",
   "metadata": {},
   "outputs": [],
   "source": [
    "nx.write_graphml(new_polytree, \"polytree_threshold.graphml\")"
   ]
  },
  {
   "cell_type": "code",
   "execution_count": 34,
   "id": "22a647c7",
   "metadata": {},
   "outputs": [],
   "source": [
    "def birth(nodes, edges):\n",
    "    n_birth = 0\n",
    "    birth_nodes = []\n",
    "    for node in nodes:\n",
    "        is_birth = True\n",
    "        for edge in edges:\n",
    "            if node == edge[1]:\n",
    "                is_birth = False\n",
    "                break\n",
    "        if is_birth:\n",
    "            n_birth+=1\n",
    "            birth_nodes.append(node)\n",
    "    return n_birth, birth_nodes"
   ]
  },
  {
   "cell_type": "code",
   "execution_count": 35,
   "id": "78caf978",
   "metadata": {},
   "outputs": [],
   "source": [
    "def death(nodes, edges):\n",
    "    n_death = 0\n",
    "    death_nodes = []\n",
    "    for node in nodes:\n",
    "        is_death = True\n",
    "        for edge in edges:\n",
    "            if node == edge[0]:\n",
    "                is_death = False\n",
    "                break\n",
    "        if is_death:\n",
    "            n_death+=1\n",
    "            death_nodes.append(node)\n",
    "    return n_death, death_nodes"
   ]
  },
  {
   "cell_type": "code",
   "execution_count": 36,
   "id": "324fd0b0",
   "metadata": {},
   "outputs": [],
   "source": [
    "def merge(nodes, edges):\n",
    "    n_merge = 0\n",
    "    merge_nodes = {}\n",
    "    for node in nodes:\n",
    "        tmp_from = []\n",
    "        n_from = 0\n",
    "        for edge in edges:\n",
    "            if node == edge[1]:\n",
    "                tmp_from.append(edge[0])\n",
    "                n_from+=1\n",
    "        if n_from >1:\n",
    "            n_merge+=1\n",
    "            merge_nodes[node]=tmp_from\n",
    "    return n_merge, merge_nodes"
   ]
  },
  {
   "cell_type": "code",
   "execution_count": 37,
   "id": "e9d964b1",
   "metadata": {},
   "outputs": [],
   "source": [
    "def split(nodes, edges):\n",
    "    n_split = 0\n",
    "    split_nodes = {}\n",
    "    for node in nodes:\n",
    "        tmp_to = []\n",
    "        n_to = 0\n",
    "        for edge in edges:\n",
    "            if node == edge[0]:\n",
    "                tmp_to.append(edge[1])\n",
    "                n_to+=1\n",
    "        if n_to >1:\n",
    "            n_split+=1\n",
    "            split_nodes[node]=tmp_to\n",
    "    return n_split, split_nodes"
   ]
  },
  {
   "cell_type": "code",
   "execution_count": 38,
   "id": "1caf3442",
   "metadata": {},
   "outputs": [],
   "source": [
    "def continue_(nodes, edges):\n",
    "    n_continue = 0\n",
    "    continue_nodes = []\n",
    "    for node in nodes:\n",
    "        n_to = 0\n",
    "        tmp_to = \"\"\n",
    "        for edge in edges:\n",
    "            if node == edge[0]:\n",
    "                tmp_to=edge[1]\n",
    "                n_to+=1\n",
    "        if n_to ==1:\n",
    "            n_in = 0\n",
    "            for edge in edges:\n",
    "                if edge[1] == tmp_to:\n",
    "                    n_in+=1\n",
    "            if n_in ==1:\n",
    "                n_continue+=1\n",
    "                continue_nodes.append((node, tmp_to))\n",
    "    return n_continue, continue_nodes"
   ]
  },
  {
   "cell_type": "code",
   "execution_count": 39,
   "id": "4a7608d2",
   "metadata": {},
   "outputs": [],
   "source": [
    "def type_continue(continue_nodes, tc):\n",
    "    grow = 0\n",
    "    contraction = 0\n",
    "    grow_ll = []\n",
    "    contraction_ll = []\n",
    "    for u,v in continue_nodes:\n",
    "        u_  = u.split(\"_\")\n",
    "        v_  = v.split(\"_\")\n",
    "        com_u = tc.get_clustering_at(int(u_[0])).named_communities[u]\n",
    "        com_v = tc.get_clustering_at(int(v_[0])).named_communities[v]\n",
    "        l_u = len(com_u)\n",
    "        l_v = len(com_v)\n",
    "        if l_u < l_v:\n",
    "            grow+=1\n",
    "            grow_ll.append((u, v))\n",
    "        if l_u > l_v:\n",
    "            contraction+=1\n",
    "            contraction_ll.append((u, v))\n",
    "    return grow, contraction, grow_ll, contraction_ll"
   ]
  },
  {
   "cell_type": "code",
   "execution_count": 40,
   "id": "2e0957c4",
   "metadata": {},
   "outputs": [],
   "source": [
    "def resourge(nodes, edges, tc):\n",
    "    #nodes without exit edges\n",
    "    no_exit_nodes = []\n",
    "    for node in nodes:\n",
    "        no_exit = True\n",
    "        for edge in edges:\n",
    "            if node == edge[0]:\n",
    "                no_exit = False\n",
    "                break\n",
    "        if no_exit:\n",
    "            no_exit_nodes.append(node)\n",
    "    #nodes withou entry edges\n",
    "    no_entry_nodes = []\n",
    "    for node in nodes:\n",
    "        no_entry = True\n",
    "        for edge in edges:\n",
    "            if node == edge[1]:\n",
    "                no_entry = False\n",
    "                break\n",
    "        if no_entry:\n",
    "            no_entry_nodes.append(node)\n",
    "    #for all no_exit (at t):\n",
    "    #       if there is a no_entry (at t + n) == no_exit (at t)\n",
    "    #              resourge found\n",
    "    resourge = 0\n",
    "    resourge_ll = []\n",
    "    for n_ex in no_exit_nodes:\n",
    "        clust_ex, commu_ex = n_ex.split(\"_\")\n",
    "        for n_en in no_entry_nodes:\n",
    "            clust_en, commu_en = n_en.split(\"_\")\n",
    "            if int(clust_en) > int(clust_ex):\n",
    "                # from t to t+n\n",
    "                com_ex = tc.get_clustering_at(int(clust_ex)).named_communities[n_ex]\n",
    "                com_en = tc.get_clustering_at(int(clust_en)).named_communities[n_en]\n",
    "                com_ex.sort()\n",
    "                com_en.sort()\n",
    "                if com_ex == com_en:\n",
    "                    resourge+=1\n",
    "                    resourge_ll.append((n_ex, n_en))\n",
    "    return resourge, resourge_ll"
   ]
  },
  {
   "cell_type": "code",
   "execution_count": 41,
   "id": "3167fbab",
   "metadata": {},
   "outputs": [],
   "source": [
    "nodes_polytree = list(com_polytree.nodes())\n",
    "edges_polytree = list(com_polytree.edges())"
   ]
  },
  {
   "cell_type": "code",
   "execution_count": 42,
   "id": "6e94cd61",
   "metadata": {},
   "outputs": [
    {
     "name": "stdout",
     "output_type": "stream",
     "text": [
      "142\n",
      "1139\n"
     ]
    }
   ],
   "source": [
    "print(len(nodes_polytree))\n",
    "print(len(edges_polytree))"
   ]
  },
  {
   "cell_type": "code",
   "execution_count": 43,
   "id": "614f1367",
   "metadata": {},
   "outputs": [],
   "source": [
    "nodes_new = list(new_polytree.nodes())\n",
    "edges_new = list(new_polytree.edges())"
   ]
  },
  {
   "cell_type": "code",
   "execution_count": 44,
   "id": "525d7aba",
   "metadata": {},
   "outputs": [
    {
     "name": "stdout",
     "output_type": "stream",
     "text": [
      "120\n",
      "127\n"
     ]
    }
   ],
   "source": [
    "print(len(nodes_new))\n",
    "print(len(edges_new))"
   ]
  },
  {
   "cell_type": "code",
   "execution_count": 45,
   "id": "35d72913",
   "metadata": {},
   "outputs": [
    {
     "name": "stdout",
     "output_type": "stream",
     "text": [
      "('0_0', '1_2', {'weight': 0.15625})\n",
      "('1_2', '2_3', {'weight': 0.07964601769911504})\n",
      "('1_2', '2_10', {'weight': 0.023255813953488372})\n",
      "('1_2', '2_11', {'weight': 0.060240963855421686})\n",
      "('1_2', '2_16', {'weight': 0.013513513513513514})\n",
      "('1_2', '2_18', {'weight': 0.013888888888888888})\n",
      "('0_1', '1_0', {'weight': 0.13829787234042554})\n",
      "('0_1', '1_16', {'weight': 0.00909090909090909})\n",
      "('1_0', '2_1', {'weight': 0.07692307692307693})\n",
      "('1_0', '2_6', {'weight': 0.02962962962962963})\n",
      "('0_2', '1_3', {'weight': 0.20454545454545456})\n",
      "('1_3', '2_0', {'weight': 0.2231404958677686})\n",
      "('0_3', '1_1', {'weight': 0.08982035928143713})\n",
      "('0_3', '1_10', {'weight': 0.06796116504854369})\n",
      "('1_1', '2_2', {'weight': 0.07947019867549669})\n",
      "('0_4', '1_5', {'weight': 0.08247422680412371})\n",
      "('0_4', '1_8', {'weight': 0.056818181818181816})\n",
      "('1_5', '2_8', {'weight': 0.06060606060606061})\n",
      "('1_5', '2_15', {'weight': 0.05660377358490566})\n",
      "('0_5', '1_7', {'weight': 0.033707865168539325})\n",
      "('1_7', '2_14', {'weight': 0.06666666666666667})\n",
      "('1_7', '2_17', {'weight': 0.02631578947368421})\n",
      "('0_6', '1_4', {'weight': 0.06796116504854369})\n",
      "('1_4', '2_7', {'weight': 0.13095238095238096})\n",
      "('0_7', '1_0', {'weight': 0.07086614173228346})\n",
      "('0_8', '1_4', {'weight': 0.07407407407407407})\n",
      "('0_9', '1_7', {'weight': 0.057692307692307696})\n",
      "('0_10', '1_6', {'weight': 0.05357142857142857})\n",
      "('0_10', '1_12', {'weight': 0.04})\n",
      "('1_6', '2_9', {'weight': 0.05172413793103448})\n",
      "('1_6', '2_19', {'weight': 0.05128205128205128})\n",
      "('0_11', '1_4', {'weight': 0.03896103896103896})\n",
      "('0_12', '1_4', {'weight': 0.013157894736842105})\n",
      "('0_13', '1_2', {'weight': 0.012345679012345678})\n",
      "('0_14', '1_9', {'weight': 0.09090909090909091})\n",
      "('1_9', '2_4', {'weight': 0.07017543859649122})\n",
      "('1_9', '2_5', {'weight': 0.03508771929824561})\n",
      "('0_15', '1_6', {'weight': 0.021739130434782608})\n",
      "('0_16', '1_6', {'weight': 0.06818181818181818})\n",
      "('0_17', '1_7', {'weight': 0.024390243902439025})\n",
      "('0_18', '1_6', {'weight': 0.07317073170731707})\n",
      "('1_8', '2_15', {'weight': 0.047619047619047616})\n",
      "('1_8', '2_23', {'weight': 0.029411764705882353})\n",
      "('1_10', '2_13', {'weight': 0.05405405405405406})\n",
      "('1_11', '2_26', {'weight': 0.14285714285714285})\n",
      "('1_12', '2_12', {'weight': 0.047619047619047616})\n",
      "('1_13', '2_3', {'weight': 0.017857142857142856})\n",
      "('1_16', '2_9', {'weight': 0.04})\n",
      "('0_21', '1_11', {'weight': 0.1})\n",
      "('0_22', '1_5', {'weight': 0.02040816326530612})\n",
      "('0_23', '1_7', {'weight': 0.02702702702702703})\n",
      "('0_24', '1_5', {'weight': 0.0425531914893617})\n",
      "('0_27', '1_5', {'weight': 0.02127659574468085})\n",
      "('0_28', '1_0', {'weight': 0.009259259259259259})\n",
      "('0_33', '1_0', {'weight': 0.009345794392523364})\n",
      "('2_1', '3_3', {'weight': 0.09565217391304348})\n",
      "('2_1', '3_14', {'weight': 0.01282051282051282})\n",
      "('2_2', '3_2', {'weight': 0.14545454545454545})\n",
      "('2_2', '3_12', {'weight': 0.0410958904109589})\n",
      "('2_3', '3_0', {'weight': 0.03546099290780142})\n",
      "('2_3', '3_17', {'weight': 0.018867924528301886})\n",
      "('2_0', '3_1', {'weight': 0.125})\n",
      "('2_0', '3_5', {'weight': 0.05263157894736842})\n",
      "('2_7', '3_6', {'weight': 0.07547169811320754})\n",
      "('2_8', '3_4', {'weight': 0.04225352112676056})\n",
      "('2_8', '3_18', {'weight': 0.038461538461538464})\n",
      "('2_9', '3_11', {'weight': 0.05714285714285714})\n",
      "('2_14', '3_3', {'weight': 0.04918032786885246})\n",
      "('2_15', '3_9', {'weight': 0.038461538461538464})\n",
      "('2_4', '3_7', {'weight': 0.057692307692307696})\n",
      "('2_4', '3_13', {'weight': 0.02631578947368421})\n",
      "('2_13', '3_5', {'weight': 0.03636363636363636})\n",
      "('2_26', '3_0', {'weight': 0.010526315789473684})\n",
      "('2_12', '3_0', {'weight': 0.01834862385321101})\n",
      "('2_5', '3_8', {'weight': 0.08695652173913043})\n",
      "('2_5', '3_15', {'weight': 0.02857142857142857})\n",
      "('2_6', '3_10', {'weight': 0.11627906976744186})\n",
      "('2_10', '3_0', {'weight': 0.10891089108910891})\n",
      "('2_11', '3_0', {'weight': 0.037037037037037035})\n",
      "('2_16', '3_0', {'weight': 0.01020408163265306})\n",
      "('2_21', '3_4', {'weight': 0.02})\n",
      "('2_23', '3_0', {'weight': 0.010526315789473684})\n",
      "('3_1', '4_1', {'weight': 0.12666666666666668})\n",
      "('3_3', '4_5', {'weight': 0.09090909090909091})\n",
      "('3_2', '4_2', {'weight': 0.0970873786407767})\n",
      "('3_2', '4_11', {'weight': 0.015625})\n",
      "('3_0', '4_0', {'weight': 0.1})\n",
      "('3_0', '4_15', {'weight': 0.020833333333333332})\n",
      "('3_0', '4_16', {'weight': 0.021052631578947368})\n",
      "('3_0', '4_18', {'weight': 0.010526315789473684})\n",
      "('3_7', '4_8', {'weight': 0.05555555555555555})\n",
      "('3_8', '4_4', {'weight': 0.1276595744680851})\n",
      "('3_10', '4_9', {'weight': 0.10344827586206896})\n",
      "('3_6', '4_7', {'weight': 0.09523809523809523})\n",
      "('3_4', '4_6', {'weight': 0.0641025641025641})\n",
      "('3_4', '4_13', {'weight': 0.019230769230769232})\n",
      "('3_11', '4_8', {'weight': 0.06666666666666667})\n",
      "('3_5', '4_3', {'weight': 0.1111111111111111})\n",
      "('3_5', '4_14', {'weight': 0.023255813953488372})\n",
      "('3_9', '4_12', {'weight': 0.05})\n",
      "('3_12', '4_2', {'weight': 0.05})\n",
      "('3_13', '4_8', {'weight': 0.047619047619047616})\n",
      "('3_15', '4_5', {'weight': 0.027777777777777776})\n",
      "('3_16', '4_0', {'weight': 0.021505376344086023})\n",
      "('3_17', '4_0', {'weight': 0.021505376344086023})\n",
      "('4_0', '5_2', {'weight': 0.06666666666666667})\n",
      "('4_1', '5_0', {'weight': 0.11333333333333333})\n",
      "('4_2', '5_1', {'weight': 0.056818181818181816})\n",
      "('4_5', '5_4', {'weight': 0.09259259259259259})\n",
      "('4_5', '5_8', {'weight': 0.01818181818181818})\n",
      "('4_5', '5_17', {'weight': 0.02857142857142857})\n",
      "('4_6', '5_5', {'weight': 0.09433962264150944})\n",
      "('4_6', '5_3', {'weight': 0.06557377049180328})\n",
      "('4_6', '5_12', {'weight': 0.02631578947368421})\n",
      "('4_3', '5_0', {'weight': 0.06923076923076923})\n",
      "('4_3', '5_10', {'weight': 0.017241379310344827})\n",
      "('4_3', '5_14', {'weight': 0.018518518518518517})\n",
      "('4_3', '5_15', {'weight': 0.018867924528301886})\n",
      "('4_7', '5_6', {'weight': 0.07142857142857142})\n",
      "('4_8', '5_9', {'weight': 0.12121212121212122})\n",
      "('4_8', '5_18', {'weight': 0.05263157894736842})\n",
      "('4_4', '5_7', {'weight': 0.09259259259259259})\n",
      "('4_12', '5_1', {'weight': 0.024390243902439025})\n",
      "('4_9', '5_13', {'weight': 0.15789473684210525})\n",
      "('4_10', '5_11', {'weight': 0.06666666666666667})\n",
      "('4_11', '5_9', {'weight': 0.038461538461538464})\n",
      "('4_19', '5_5', {'weight': 0.04})\n"
     ]
    }
   ],
   "source": [
    "for i in new_polytree.edges(data=True):\n",
    "    print(i)"
   ]
  },
  {
   "cell_type": "code",
   "execution_count": 46,
   "id": "3cddf40a",
   "metadata": {},
   "outputs": [
    {
     "name": "stdout",
     "output_type": "stream",
     "text": [
      "35\n"
     ]
    }
   ],
   "source": [
    "n_birth, birth_nodes = birth(nodes_polytree, edges_polytree)\n",
    "print(n_birth)"
   ]
  },
  {
   "cell_type": "code",
   "execution_count": 47,
   "id": "84e55c47",
   "metadata": {},
   "outputs": [
    {
     "name": "stdout",
     "output_type": "stream",
     "text": [
      "19\n"
     ]
    }
   ],
   "source": [
    "n_death, death_nodes = death(nodes_polytree, edges_polytree)\n",
    "print(n_death)"
   ]
  },
  {
   "cell_type": "code",
   "execution_count": 48,
   "id": "9a712f9e",
   "metadata": {},
   "outputs": [
    {
     "name": "stdout",
     "output_type": "stream",
     "text": [
      "107\n"
     ]
    }
   ],
   "source": [
    "n_merge, merge_nodes = merge(nodes_polytree, edges_polytree)\n",
    "print(n_merge)"
   ]
  },
  {
   "cell_type": "code",
   "execution_count": 49,
   "id": "2748491c",
   "metadata": {},
   "outputs": [
    {
     "name": "stdout",
     "output_type": "stream",
     "text": [
      "123\n"
     ]
    }
   ],
   "source": [
    "n_split, split_nodes = split(nodes_polytree, edges_polytree)\n",
    "print(n_split)"
   ]
  },
  {
   "cell_type": "code",
   "execution_count": 50,
   "id": "b7914d3f",
   "metadata": {},
   "outputs": [
    {
     "name": "stdout",
     "output_type": "stream",
     "text": [
      "0\n"
     ]
    }
   ],
   "source": [
    "n_continue, continue_nodes = continue_(nodes_polytree, edges_polytree)\n",
    "print(n_continue)"
   ]
  },
  {
   "cell_type": "code",
   "execution_count": 51,
   "id": "ee014058",
   "metadata": {},
   "outputs": [],
   "source": [
    "if n_continue > 0:\n",
    "    n_grow, n_contraction = type_continue(continue_nodes, tc)\n",
    "    print(\"N grow events: \", n_grow)\n",
    "    print(\"N contraction events: \", n_contraction)"
   ]
  },
  {
   "cell_type": "code",
   "execution_count": null,
   "id": "ae46aabf",
   "metadata": {},
   "outputs": [],
   "source": []
  },
  {
   "cell_type": "code",
   "execution_count": 52,
   "id": "bcfc39e9",
   "metadata": {},
   "outputs": [
    {
     "name": "stdout",
     "output_type": "stream",
     "text": [
      "31\n"
     ]
    }
   ],
   "source": [
    "n_birth, birth_nodes = birth(nodes_new, edges_new)\n",
    "print(n_birth)"
   ]
  },
  {
   "cell_type": "code",
   "execution_count": 53,
   "id": "6179d9b5",
   "metadata": {},
   "outputs": [
    {
     "name": "stdout",
     "output_type": "stream",
     "text": [
      "5\n"
     ]
    }
   ],
   "source": [
    "real_birth = 0\n",
    "for i in birth_nodes:\n",
    "    if i.split(\"_\")[0] != \"0\":\n",
    "        real_birth+=1\n",
    "print(real_birth)"
   ]
  },
  {
   "cell_type": "code",
   "execution_count": 54,
   "id": "aff16b20",
   "metadata": {},
   "outputs": [
    {
     "name": "stdout",
     "output_type": "stream",
     "text": [
      "28\n"
     ]
    }
   ],
   "source": [
    "n_death, death_nodes = death(nodes_new, edges_new)\n",
    "print(n_death)"
   ]
  },
  {
   "cell_type": "code",
   "execution_count": 55,
   "id": "9c223c7e",
   "metadata": {},
   "outputs": [
    {
     "name": "stdout",
     "output_type": "stream",
     "text": [
      "28\n"
     ]
    }
   ],
   "source": [
    "real_death = 0\n",
    "for i in death_nodes:\n",
    "    if i.split(\"_\")[0] != \"11\":\n",
    "        real_death+=1\n",
    "print(real_death)"
   ]
  },
  {
   "cell_type": "code",
   "execution_count": 56,
   "id": "83d811e6",
   "metadata": {},
   "outputs": [
    {
     "name": "stdout",
     "output_type": "stream",
     "text": [
      "21\n"
     ]
    }
   ],
   "source": [
    "n_merge, merge_nodes = merge(nodes_new, edges_new)\n",
    "print(n_merge)"
   ]
  },
  {
   "cell_type": "code",
   "execution_count": 57,
   "id": "ffdc80a7",
   "metadata": {},
   "outputs": [
    {
     "name": "stdout",
     "output_type": "stream",
     "text": [
      "26\n"
     ]
    }
   ],
   "source": [
    "n_split, split_nodes = split(nodes_new, edges_new)\n",
    "print(n_split)"
   ]
  },
  {
   "cell_type": "code",
   "execution_count": 58,
   "id": "9cce820e",
   "metadata": {},
   "outputs": [
    {
     "name": "stdout",
     "output_type": "stream",
     "text": [
      "23\n"
     ]
    }
   ],
   "source": [
    "n_continue, continue_nodes = continue_(nodes_new, edges_new)\n",
    "print(n_continue)"
   ]
  },
  {
   "cell_type": "code",
   "execution_count": 59,
   "id": "44033b13",
   "metadata": {},
   "outputs": [
    {
     "name": "stdout",
     "output_type": "stream",
     "text": [
      "N grow events:  8\n",
      "N contraction events:  15\n"
     ]
    }
   ],
   "source": [
    "if n_continue > 0:\n",
    "    n_grow, n_contraction, grow_ll, contraction_ll = type_continue(continue_nodes, tc)\n",
    "    print(\"N grow events: \", n_grow)\n",
    "    print(\"N contraction events: \", n_contraction)"
   ]
  },
  {
   "cell_type": "markdown",
   "id": "68850566",
   "metadata": {},
   "source": [
    "Grow event: <br>\n",
    "from 8_27 to 9_16 <br>\n",
    "Contraction event: <br>\n",
    "from 9_16 to 10_37"
   ]
  },
  {
   "cell_type": "code",
   "execution_count": 60,
   "id": "5f37bad9",
   "metadata": {},
   "outputs": [
    {
     "ename": "KeyError",
     "evalue": "8",
     "output_type": "error",
     "traceback": [
      "\u001b[0;31m---------------------------------------------------------------------------\u001b[0m",
      "\u001b[0;31mKeyError\u001b[0m                                  Traceback (most recent call last)",
      "Input \u001b[0;32mIn [60]\u001b[0m, in \u001b[0;36m<cell line: 1>\u001b[0;34m()\u001b[0m\n\u001b[0;32m----> 1\u001b[0m com_8_27 \u001b[38;5;241m=\u001b[39m \u001b[43mtc\u001b[49m\u001b[38;5;241;43m.\u001b[39;49m\u001b[43mget_clustering_at\u001b[49m\u001b[43m(\u001b[49m\u001b[38;5;241;43m8\u001b[39;49m\u001b[43m)\u001b[49m\u001b[38;5;241m.\u001b[39mnamed_communities[\u001b[38;5;124m\"\u001b[39m\u001b[38;5;124m8_27\u001b[39m\u001b[38;5;124m\"\u001b[39m]\n\u001b[1;32m      2\u001b[0m \u001b[38;5;28mprint\u001b[39m(\u001b[38;5;28mlen\u001b[39m(com_8_27))\n",
      "File \u001b[0;32m/opt/anaconda3/lib/python3.9/site-packages/cdlib/classes/temporal_clustering.py:45\u001b[0m, in \u001b[0;36mTemporalClustering.get_clustering_at\u001b[0;34m(self, time)\u001b[0m\n\u001b[1;32m     38\u001b[0m \u001b[38;5;28;01mdef\u001b[39;00m \u001b[38;5;21mget_clustering_at\u001b[39m(\u001b[38;5;28mself\u001b[39m, time: \u001b[38;5;28mobject\u001b[39m) \u001b[38;5;241m-\u001b[39m\u001b[38;5;241m>\u001b[39m \u001b[38;5;28mobject\u001b[39m:\n\u001b[1;32m     39\u001b[0m     \u001b[38;5;124;03m\"\"\"\u001b[39;00m\n\u001b[1;32m     40\u001b[0m \u001b[38;5;124;03m    Returns the clustering observed at a given time\u001b[39;00m\n\u001b[1;32m     41\u001b[0m \n\u001b[1;32m     42\u001b[0m \u001b[38;5;124;03m    :param time: the time of observation\u001b[39;00m\n\u001b[1;32m     43\u001b[0m \u001b[38;5;124;03m    :return: a Clustering object\u001b[39;00m\n\u001b[1;32m     44\u001b[0m \u001b[38;5;124;03m    \"\"\"\u001b[39;00m\n\u001b[0;32m---> 45\u001b[0m     \u001b[38;5;28;01mreturn\u001b[39;00m \u001b[38;5;28mself\u001b[39m\u001b[38;5;241m.\u001b[39mclusterings[\u001b[38;5;28;43mself\u001b[39;49m\u001b[38;5;241;43m.\u001b[39;49m\u001b[43mtime_to_obs\u001b[49m\u001b[43m[\u001b[49m\u001b[43mtime\u001b[49m\u001b[43m]\u001b[49m]\n",
      "\u001b[0;31mKeyError\u001b[0m: 8"
     ]
    }
   ],
   "source": [
    "com_8_27 = tc.get_clustering_at(8).named_communities[\"8_27\"]\n",
    "print(len(com_8_27))"
   ]
  },
  {
   "cell_type": "code",
   "execution_count": 61,
   "id": "cd00c2e0",
   "metadata": {},
   "outputs": [
    {
     "ename": "KeyError",
     "evalue": "9",
     "output_type": "error",
     "traceback": [
      "\u001b[0;31m---------------------------------------------------------------------------\u001b[0m",
      "\u001b[0;31mKeyError\u001b[0m                                  Traceback (most recent call last)",
      "Input \u001b[0;32mIn [61]\u001b[0m, in \u001b[0;36m<cell line: 1>\u001b[0;34m()\u001b[0m\n\u001b[0;32m----> 1\u001b[0m com_9_16 \u001b[38;5;241m=\u001b[39m \u001b[43mtc\u001b[49m\u001b[38;5;241;43m.\u001b[39;49m\u001b[43mget_clustering_at\u001b[49m\u001b[43m(\u001b[49m\u001b[38;5;241;43m9\u001b[39;49m\u001b[43m)\u001b[49m\u001b[38;5;241m.\u001b[39mnamed_communities[\u001b[38;5;124m\"\u001b[39m\u001b[38;5;124m9_16\u001b[39m\u001b[38;5;124m\"\u001b[39m]\n\u001b[1;32m      2\u001b[0m \u001b[38;5;28mprint\u001b[39m(\u001b[38;5;28mlen\u001b[39m(com_9_16))\n",
      "File \u001b[0;32m/opt/anaconda3/lib/python3.9/site-packages/cdlib/classes/temporal_clustering.py:45\u001b[0m, in \u001b[0;36mTemporalClustering.get_clustering_at\u001b[0;34m(self, time)\u001b[0m\n\u001b[1;32m     38\u001b[0m \u001b[38;5;28;01mdef\u001b[39;00m \u001b[38;5;21mget_clustering_at\u001b[39m(\u001b[38;5;28mself\u001b[39m, time: \u001b[38;5;28mobject\u001b[39m) \u001b[38;5;241m-\u001b[39m\u001b[38;5;241m>\u001b[39m \u001b[38;5;28mobject\u001b[39m:\n\u001b[1;32m     39\u001b[0m     \u001b[38;5;124;03m\"\"\"\u001b[39;00m\n\u001b[1;32m     40\u001b[0m \u001b[38;5;124;03m    Returns the clustering observed at a given time\u001b[39;00m\n\u001b[1;32m     41\u001b[0m \n\u001b[1;32m     42\u001b[0m \u001b[38;5;124;03m    :param time: the time of observation\u001b[39;00m\n\u001b[1;32m     43\u001b[0m \u001b[38;5;124;03m    :return: a Clustering object\u001b[39;00m\n\u001b[1;32m     44\u001b[0m \u001b[38;5;124;03m    \"\"\"\u001b[39;00m\n\u001b[0;32m---> 45\u001b[0m     \u001b[38;5;28;01mreturn\u001b[39;00m \u001b[38;5;28mself\u001b[39m\u001b[38;5;241m.\u001b[39mclusterings[\u001b[38;5;28;43mself\u001b[39;49m\u001b[38;5;241;43m.\u001b[39;49m\u001b[43mtime_to_obs\u001b[49m\u001b[43m[\u001b[49m\u001b[43mtime\u001b[49m\u001b[43m]\u001b[49m]\n",
      "\u001b[0;31mKeyError\u001b[0m: 9"
     ]
    }
   ],
   "source": [
    "com_9_16 = tc.get_clustering_at(9).named_communities[\"9_16\"]\n",
    "print(len(com_9_16))"
   ]
  },
  {
   "cell_type": "code",
   "execution_count": 62,
   "id": "912bb8bf",
   "metadata": {},
   "outputs": [
    {
     "ename": "KeyError",
     "evalue": "10",
     "output_type": "error",
     "traceback": [
      "\u001b[0;31m---------------------------------------------------------------------------\u001b[0m",
      "\u001b[0;31mKeyError\u001b[0m                                  Traceback (most recent call last)",
      "Input \u001b[0;32mIn [62]\u001b[0m, in \u001b[0;36m<cell line: 1>\u001b[0;34m()\u001b[0m\n\u001b[0;32m----> 1\u001b[0m com_10_37 \u001b[38;5;241m=\u001b[39m \u001b[43mtc\u001b[49m\u001b[38;5;241;43m.\u001b[39;49m\u001b[43mget_clustering_at\u001b[49m\u001b[43m(\u001b[49m\u001b[38;5;241;43m10\u001b[39;49m\u001b[43m)\u001b[49m\u001b[38;5;241m.\u001b[39mnamed_communities[\u001b[38;5;124m\"\u001b[39m\u001b[38;5;124m10_37\u001b[39m\u001b[38;5;124m\"\u001b[39m]\n\u001b[1;32m      2\u001b[0m \u001b[38;5;28mprint\u001b[39m(\u001b[38;5;28mlen\u001b[39m(com_10_37))\n",
      "File \u001b[0;32m/opt/anaconda3/lib/python3.9/site-packages/cdlib/classes/temporal_clustering.py:45\u001b[0m, in \u001b[0;36mTemporalClustering.get_clustering_at\u001b[0;34m(self, time)\u001b[0m\n\u001b[1;32m     38\u001b[0m \u001b[38;5;28;01mdef\u001b[39;00m \u001b[38;5;21mget_clustering_at\u001b[39m(\u001b[38;5;28mself\u001b[39m, time: \u001b[38;5;28mobject\u001b[39m) \u001b[38;5;241m-\u001b[39m\u001b[38;5;241m>\u001b[39m \u001b[38;5;28mobject\u001b[39m:\n\u001b[1;32m     39\u001b[0m     \u001b[38;5;124;03m\"\"\"\u001b[39;00m\n\u001b[1;32m     40\u001b[0m \u001b[38;5;124;03m    Returns the clustering observed at a given time\u001b[39;00m\n\u001b[1;32m     41\u001b[0m \n\u001b[1;32m     42\u001b[0m \u001b[38;5;124;03m    :param time: the time of observation\u001b[39;00m\n\u001b[1;32m     43\u001b[0m \u001b[38;5;124;03m    :return: a Clustering object\u001b[39;00m\n\u001b[1;32m     44\u001b[0m \u001b[38;5;124;03m    \"\"\"\u001b[39;00m\n\u001b[0;32m---> 45\u001b[0m     \u001b[38;5;28;01mreturn\u001b[39;00m \u001b[38;5;28mself\u001b[39m\u001b[38;5;241m.\u001b[39mclusterings[\u001b[38;5;28;43mself\u001b[39;49m\u001b[38;5;241;43m.\u001b[39;49m\u001b[43mtime_to_obs\u001b[49m\u001b[43m[\u001b[49m\u001b[43mtime\u001b[49m\u001b[43m]\u001b[49m]\n",
      "\u001b[0;31mKeyError\u001b[0m: 10"
     ]
    }
   ],
   "source": [
    "com_10_37 = tc.get_clustering_at(10).named_communities[\"10_37\"]\n",
    "print(len(com_10_37))"
   ]
  },
  {
   "cell_type": "code",
   "execution_count": 63,
   "id": "f59bd9a6",
   "metadata": {},
   "outputs": [
    {
     "data": {
      "text/plain": [
       "<cdlib.classes.named_clustering.NamedClustering at 0x16ce8d280>"
      ]
     },
     "execution_count": 63,
     "metadata": {},
     "output_type": "execute_result"
    }
   ],
   "source": [
    "tc.get_clustering_at(1)"
   ]
  },
  {
   "cell_type": "code",
   "execution_count": 64,
   "id": "019e0baa",
   "metadata": {},
   "outputs": [
    {
     "name": "stdout",
     "output_type": "stream",
     "text": [
      "('1_3', '2_0')\n"
     ]
    }
   ],
   "source": [
    "max_grow = 0 \n",
    "edge_grow = (\"0\", \"0\")\n",
    "for i in grow_ll:\n",
    "    tt = i[0].split(\"_\")\n",
    "    com_ = tc.get_clustering_at(int(tt[0])).named_communities[i[0]]\n",
    "    if len(com_) > max_grow:\n",
    "        max_grow = len(com_)\n",
    "        edge_grow = i\n",
    "print(edge_grow)"
   ]
  },
  {
   "cell_type": "code",
   "execution_count": 65,
   "id": "8c91bc60",
   "metadata": {},
   "outputs": [
    {
     "ename": "KeyError",
     "evalue": "10",
     "output_type": "error",
     "traceback": [
      "\u001b[0;31m---------------------------------------------------------------------------\u001b[0m",
      "\u001b[0;31mKeyError\u001b[0m                                  Traceback (most recent call last)",
      "Input \u001b[0;32mIn [65]\u001b[0m, in \u001b[0;36m<cell line: 1>\u001b[0;34m()\u001b[0m\n\u001b[0;32m----> 1\u001b[0m com_10_3 \u001b[38;5;241m=\u001b[39m \u001b[43mtc\u001b[49m\u001b[38;5;241;43m.\u001b[39;49m\u001b[43mget_clustering_at\u001b[49m\u001b[43m(\u001b[49m\u001b[38;5;241;43m10\u001b[39;49m\u001b[43m)\u001b[49m\u001b[38;5;241m.\u001b[39mnamed_communities[\u001b[38;5;124m\"\u001b[39m\u001b[38;5;124m10_3\u001b[39m\u001b[38;5;124m\"\u001b[39m]\n\u001b[1;32m      2\u001b[0m \u001b[38;5;28mprint\u001b[39m(\u001b[38;5;28mlen\u001b[39m(com_1_17))\n\u001b[1;32m      3\u001b[0m com_11_2 \u001b[38;5;241m=\u001b[39m tc\u001b[38;5;241m.\u001b[39mget_clustering_at(\u001b[38;5;241m11\u001b[39m)\u001b[38;5;241m.\u001b[39mnamed_communities[\u001b[38;5;124m\"\u001b[39m\u001b[38;5;124m11_2\u001b[39m\u001b[38;5;124m\"\u001b[39m]\n",
      "File \u001b[0;32m/opt/anaconda3/lib/python3.9/site-packages/cdlib/classes/temporal_clustering.py:45\u001b[0m, in \u001b[0;36mTemporalClustering.get_clustering_at\u001b[0;34m(self, time)\u001b[0m\n\u001b[1;32m     38\u001b[0m \u001b[38;5;28;01mdef\u001b[39;00m \u001b[38;5;21mget_clustering_at\u001b[39m(\u001b[38;5;28mself\u001b[39m, time: \u001b[38;5;28mobject\u001b[39m) \u001b[38;5;241m-\u001b[39m\u001b[38;5;241m>\u001b[39m \u001b[38;5;28mobject\u001b[39m:\n\u001b[1;32m     39\u001b[0m     \u001b[38;5;124;03m\"\"\"\u001b[39;00m\n\u001b[1;32m     40\u001b[0m \u001b[38;5;124;03m    Returns the clustering observed at a given time\u001b[39;00m\n\u001b[1;32m     41\u001b[0m \n\u001b[1;32m     42\u001b[0m \u001b[38;5;124;03m    :param time: the time of observation\u001b[39;00m\n\u001b[1;32m     43\u001b[0m \u001b[38;5;124;03m    :return: a Clustering object\u001b[39;00m\n\u001b[1;32m     44\u001b[0m \u001b[38;5;124;03m    \"\"\"\u001b[39;00m\n\u001b[0;32m---> 45\u001b[0m     \u001b[38;5;28;01mreturn\u001b[39;00m \u001b[38;5;28mself\u001b[39m\u001b[38;5;241m.\u001b[39mclusterings[\u001b[38;5;28;43mself\u001b[39;49m\u001b[38;5;241;43m.\u001b[39;49m\u001b[43mtime_to_obs\u001b[49m\u001b[43m[\u001b[49m\u001b[43mtime\u001b[49m\u001b[43m]\u001b[49m]\n",
      "\u001b[0;31mKeyError\u001b[0m: 10"
     ]
    }
   ],
   "source": [
    "com_10_3 = tc.get_clustering_at(10).named_communities[\"10_3\"]\n",
    "print(len(com_1_17))\n",
    "com_11_2 = tc.get_clustering_at(11).named_communities[\"11_2\"]\n",
    "print(len(com_11_2))"
   ]
  },
  {
   "cell_type": "code",
   "execution_count": null,
   "id": "56d5bf57",
   "metadata": {},
   "outputs": [],
   "source": []
  },
  {
   "cell_type": "code",
   "execution_count": 158,
   "id": "12a9628f",
   "metadata": {},
   "outputs": [
    {
     "name": "stdout",
     "output_type": "stream",
     "text": [
      "316\n"
     ]
    }
   ],
   "source": [
    "com_1_4 = tc.get_clustering_at(1).named_communities[\"1_4\"]\n",
    "print(len(com_1_4))"
   ]
  },
  {
   "cell_type": "code",
   "execution_count": 159,
   "id": "6d6d1806",
   "metadata": {},
   "outputs": [
    {
     "name": "stdout",
     "output_type": "stream",
     "text": [
      "5\n"
     ]
    }
   ],
   "source": [
    "com_1_17 = tc.get_clustering_at(1).named_communities[\"1_17\"]\n",
    "print(len(com_1_17))"
   ]
  },
  {
   "cell_type": "code",
   "execution_count": 160,
   "id": "8ed24d86",
   "metadata": {},
   "outputs": [
    {
     "name": "stdout",
     "output_type": "stream",
     "text": [
      "342\n"
     ]
    }
   ],
   "source": [
    "com_2_3 = tc.get_clustering_at(2).named_communities[\"2_3\"]\n",
    "print(len(com_2_3))"
   ]
  },
  {
   "cell_type": "code",
   "execution_count": 136,
   "id": "48781e82",
   "metadata": {},
   "outputs": [
    {
     "name": "stdout",
     "output_type": "stream",
     "text": [
      "258\n",
      "2\n",
      "3\n",
      "2\n",
      "5\n",
      "2\n"
     ]
    }
   ],
   "source": [
    "com_3_4 = tc.get_clustering_at(3).named_communities[\"3_4\"]\n",
    "print(len(com_3_4))\n",
    "com_3_36 = tc.get_clustering_at(3).named_communities[\"3_36\"]\n",
    "print(len(com_3_36))\n",
    "com_3_32 = tc.get_clustering_at(3).named_communities[\"3_32\"]\n",
    "print(len(com_3_32))\n",
    "com_3_44 = tc.get_clustering_at(3).named_communities[\"3_44\"]\n",
    "print(len(com_3_44))\n",
    "com_3_15 = tc.get_clustering_at(3).named_communities[\"3_15\"]\n",
    "print(len(com_3_15))\n",
    "com_3_43 = tc.get_clustering_at(3).named_communities[\"3_43\"]\n",
    "print(len(com_3_43))"
   ]
  },
  {
   "cell_type": "code",
   "execution_count": 151,
   "id": "eec461b5",
   "metadata": {},
   "outputs": [],
   "source": [
    "n_resourge, resourge_ll = resourge(nodes_new, edges_new, tc)"
   ]
  },
  {
   "cell_type": "code",
   "execution_count": 152,
   "id": "617931d3",
   "metadata": {},
   "outputs": [
    {
     "data": {
      "text/plain": [
       "0"
      ]
     },
     "execution_count": 152,
     "metadata": {},
     "output_type": "execute_result"
    }
   ],
   "source": [
    "n_resourge"
   ]
  }
 ],
 "metadata": {
  "kernelspec": {
   "display_name": "Python 3 (ipykernel)",
   "language": "python",
   "name": "python3"
  },
  "language_info": {
   "codemirror_mode": {
    "name": "ipython",
    "version": 3
   },
   "file_extension": ".py",
   "mimetype": "text/x-python",
   "name": "python",
   "nbconvert_exporter": "python",
   "pygments_lexer": "ipython3",
   "version": "3.9.13"
  }
 },
 "nbformat": 4,
 "nbformat_minor": 5
}
