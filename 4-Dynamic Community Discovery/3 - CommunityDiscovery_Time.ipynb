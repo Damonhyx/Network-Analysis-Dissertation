{
 "cells": [
  {
   "cell_type": "code",
   "execution_count": 1,
   "metadata": {},
   "outputs": [],
   "source": [
    "import pandas as pd\n",
    "import numpy as np\n",
    "import matplotlib.pyplot as plt"
   ]
  },
  {
   "cell_type": "code",
   "execution_count": 2,
   "metadata": {},
   "outputs": [
    {
     "name": "stdout",
     "output_type": "stream",
     "text": [
      "Note: to be able to use all crisp methods, you need to install some additional packages:  {'karateclub', 'leidenalg', 'infomap'}\n",
      "Note: to be able to use all overlapping methods, you need to install some additional packages:  {'ASLPAw', 'karateclub'}\n",
      "Note: to be able to use all bipartite methods, you need to install some additional packages:  {'leidenalg', 'infomap'}\n"
     ]
    }
   ],
   "source": [
    "import networkx as nx\n",
    "import pandas as pd\n",
    "import numpy as np\n",
    "import json\n",
    "import cdlib\n",
    "from cdlib import evaluation\n",
    "from cdlib import algorithms\n",
    "from cdlib import viz\n",
    "from cdlib import ensemble\n",
    "from cdlib import readwrite\n",
    "import pickle\n",
    "import pquality\n",
    "import matplotlib.pyplot as plt\n",
    "%matplotlib inline\n",
    "from nf1 import NF1"
   ]
  },
  {
   "cell_type": "code",
   "execution_count": 3,
   "metadata": {},
   "outputs": [],
   "source": [
    "def scatter_plot(sizes, title):\n",
    "    fig = plt.figure(figsize=(16,8), dpi= 150)\n",
    "    ax = fig.add_subplot(111)\n",
    "\n",
    "   \n",
    "    labels = []\n",
    "    for i in sizes:\n",
    "        plt.scatter(i[0], i[1], alpha=0.5)\n",
    "        labels.append(i[2])\n",
    "    \n",
    "    \n",
    "    \n",
    "    fontsize = 15\n",
    "    \n",
    "    #plt.yticks(ticks=y_list, labels=y_list, fontsize=fontsize, alpha=.7)\n",
    "    plt.yticks(fontsize=fontsize, alpha=1)\n",
    "    plt.xticks(fontsize=fontsize, alpha=1)\n",
    "    plt.xlabel(\"Size\", fontsize=fontsize)\n",
    "    plt.ylabel(\"Internal Edge Density\", fontsize=fontsize)\n",
    "    plt.title(title + \" Scatter Plot\", fontsize=fontsize)\n",
    "    plt.legend(labels,fontsize=fontsize)\n",
    "    plt.grid(axis='both', alpha=.3)\n",
    "    plt.xscale(\"log\")\n",
    "    plt.yscale(\"linear\")\n",
    "    \n",
    "    #for i, v in enumerate(df[feature_2].values.tolist()):\n",
    "        #ax.text(i-0.4, v+6, str(v))\n",
    "    \n",
    "    #ax.yaxis.set_major_formatter(FormatStrFormatter('%.6f'))\n",
    "    \n",
    "    # Remove borders\n",
    "    plt.gca().spines[\"top\"].set_alpha(0.0)    \n",
    "    plt.gca().spines[\"bottom\"].set_alpha(0.3)\n",
    "    plt.gca().spines[\"right\"].set_alpha(0.0)    \n",
    "    plt.gca().spines[\"left\"].set_alpha(0.3)   \n",
    "    plt.show()"
   ]
  },
  {
   "cell_type": "code",
   "execution_count": 4,
   "metadata": {},
   "outputs": [],
   "source": [
    "#Per plottare le communities per dimensione\n",
    "def plot_communities_dimentions(coms):\n",
    "    myd = {}\n",
    "    for t in coms:\n",
    "        lunghezza = len(t)\n",
    "\n",
    "        if str(lunghezza) in myd:\n",
    "            myd[str(lunghezza)] = myd[str(lunghezza)] + 1\n",
    "        else:\n",
    "            myd[str(lunghezza)] = 1\n",
    "\n",
    "    print(myd)\n",
    "    plt.figure(figsize=(20,5))\n",
    "    plt.bar(myd.keys(), myd.values(), color='b')"
   ]
  },
  {
   "cell_type": "code",
   "execution_count": 5,
   "metadata": {},
   "outputs": [],
   "source": [
    "def print_bold_str(s):\n",
    "    return \"\\033[1m\" + s + \"\\033[0m\""
   ]
  },
  {
   "cell_type": "code",
   "execution_count": 6,
   "metadata": {},
   "outputs": [],
   "source": [
    "path_graph = \"/Users/damon/Desktop/Dessertion/2-Network Analysis/\""
   ]
  },
  {
   "cell_type": "code",
   "execution_count": 7,
   "metadata": {},
   "outputs": [],
   "source": [
    "path_couple= \"/Users/damon/Desktop/Dessertion/4-Dynamic Community Discovery/tags_edges_with_time.csv\""
   ]
  },
  {
   "cell_type": "code",
   "execution_count": 8,
   "metadata": {},
   "outputs": [],
   "source": [
    "df_couple = pd.read_csv(path_couple)"
   ]
  },
  {
   "cell_type": "code",
   "execution_count": 9,
   "metadata": {},
   "outputs": [
    {
     "data": {
      "text/html": [
       "<div>\n",
       "<style scoped>\n",
       "    .dataframe tbody tr th:only-of-type {\n",
       "        vertical-align: middle;\n",
       "    }\n",
       "\n",
       "    .dataframe tbody tr th {\n",
       "        vertical-align: top;\n",
       "    }\n",
       "\n",
       "    .dataframe thead th {\n",
       "        text-align: right;\n",
       "    }\n",
       "</style>\n",
       "<table border=\"1\" class=\"dataframe\">\n",
       "  <thead>\n",
       "    <tr style=\"text-align: right;\">\n",
       "      <th></th>\n",
       "      <th>Source</th>\n",
       "      <th>Target</th>\n",
       "      <th>Timeval</th>\n",
       "      <th>Month</th>\n",
       "    </tr>\n",
       "  </thead>\n",
       "  <tbody>\n",
       "    <tr>\n",
       "      <th>0</th>\n",
       "      <td>tensorflow</td>\n",
       "      <td>machine-learning</td>\n",
       "      <td>2022-01-01 04:12:57</td>\n",
       "      <td>1</td>\n",
       "    </tr>\n",
       "    <tr>\n",
       "      <th>1</th>\n",
       "      <td>tensorflow</td>\n",
       "      <td>keras</td>\n",
       "      <td>2022-01-01 04:12:57</td>\n",
       "      <td>1</td>\n",
       "    </tr>\n",
       "    <tr>\n",
       "      <th>2</th>\n",
       "      <td>tensorflow</td>\n",
       "      <td>computer-vision</td>\n",
       "      <td>2022-01-01 04:12:57</td>\n",
       "      <td>1</td>\n",
       "    </tr>\n",
       "    <tr>\n",
       "      <th>3</th>\n",
       "      <td>tensorflow</td>\n",
       "      <td>openvino</td>\n",
       "      <td>2022-01-01 04:12:57</td>\n",
       "      <td>1</td>\n",
       "    </tr>\n",
       "    <tr>\n",
       "      <th>4</th>\n",
       "      <td>machine-learning</td>\n",
       "      <td>keras</td>\n",
       "      <td>2022-01-01 04:12:57</td>\n",
       "      <td>1</td>\n",
       "    </tr>\n",
       "    <tr>\n",
       "      <th>...</th>\n",
       "      <td>...</td>\n",
       "      <td>...</td>\n",
       "      <td>...</td>\n",
       "      <td>...</td>\n",
       "    </tr>\n",
       "    <tr>\n",
       "      <th>9778</th>\n",
       "      <td>haskell</td>\n",
       "      <td>predicate</td>\n",
       "      <td>2022-06-30 01:41:10</td>\n",
       "      <td>6</td>\n",
       "    </tr>\n",
       "    <tr>\n",
       "      <th>9779</th>\n",
       "      <td>raku</td>\n",
       "      <td>predicate</td>\n",
       "      <td>2022-06-30 01:41:10</td>\n",
       "      <td>6</td>\n",
       "    </tr>\n",
       "    <tr>\n",
       "      <th>9780</th>\n",
       "      <td>r</td>\n",
       "      <td>vector</td>\n",
       "      <td>2022-06-30 10:41:44</td>\n",
       "      <td>6</td>\n",
       "    </tr>\n",
       "    <tr>\n",
       "      <th>9781</th>\n",
       "      <td>r</td>\n",
       "      <td>combinations</td>\n",
       "      <td>2022-06-30 10:41:44</td>\n",
       "      <td>6</td>\n",
       "    </tr>\n",
       "    <tr>\n",
       "      <th>9782</th>\n",
       "      <td>vector</td>\n",
       "      <td>combinations</td>\n",
       "      <td>2022-06-30 10:41:44</td>\n",
       "      <td>6</td>\n",
       "    </tr>\n",
       "  </tbody>\n",
       "</table>\n",
       "<p>9783 rows × 4 columns</p>\n",
       "</div>"
      ],
      "text/plain": [
       "                Source            Target              Timeval  Month\n",
       "0           tensorflow  machine-learning  2022-01-01 04:12:57      1\n",
       "1           tensorflow             keras  2022-01-01 04:12:57      1\n",
       "2           tensorflow   computer-vision  2022-01-01 04:12:57      1\n",
       "3           tensorflow          openvino  2022-01-01 04:12:57      1\n",
       "4     machine-learning             keras  2022-01-01 04:12:57      1\n",
       "...                ...               ...                  ...    ...\n",
       "9778           haskell         predicate  2022-06-30 01:41:10      6\n",
       "9779              raku         predicate  2022-06-30 01:41:10      6\n",
       "9780                 r            vector  2022-06-30 10:41:44      6\n",
       "9781                 r      combinations  2022-06-30 10:41:44      6\n",
       "9782            vector      combinations  2022-06-30 10:41:44      6\n",
       "\n",
       "[9783 rows x 4 columns]"
      ]
     },
     "execution_count": 9,
     "metadata": {},
     "output_type": "execute_result"
    }
   ],
   "source": [
    "df_couple"
   ]
  },
  {
   "cell_type": "code",
   "execution_count": 10,
   "metadata": {},
   "outputs": [],
   "source": [
    "G = nx.read_graphml(path_graph+\"Real_Network.graphml\")"
   ]
  },
  {
   "cell_type": "code",
   "execution_count": 11,
   "metadata": {},
   "outputs": [
    {
     "data": {
      "text/plain": [
       "'\\njul = df_couple[df_couple[\"Month\"] ==7]\\naug = df_couple[df_couple[\"Month\"] ==8]\\nsep = df_couple[df_couple[\"Month\"] ==9]\\nott= df_couple[df_couple[\"Month\"] ==10]\\nnov = df_couple[df_couple[\"Month\"] ==11]\\ndec = df_couple[df_couple[\"Month\"] ==12]'"
      ]
     },
     "execution_count": 11,
     "metadata": {},
     "output_type": "execute_result"
    }
   ],
   "source": [
    "gen = df_couple[df_couple[\"Month\"] ==1]\n",
    "feb = df_couple[df_couple[\"Month\"] ==2]\n",
    "mar = df_couple[df_couple[\"Month\"] ==3]\n",
    "apr = df_couple[df_couple[\"Month\"] ==4]\n",
    "may = df_couple[df_couple[\"Month\"] ==5]\n",
    "jun = df_couple[df_couple[\"Month\"] ==6]\n",
    "'''\n",
    "jul = df_couple[df_couple[\"Month\"] ==7]\n",
    "aug = df_couple[df_couple[\"Month\"] ==8]\n",
    "sep = df_couple[df_couple[\"Month\"] ==9]\n",
    "ott= df_couple[df_couple[\"Month\"] ==10]\n",
    "nov = df_couple[df_couple[\"Month\"] ==11]\n",
    "dec = df_couple[df_couple[\"Month\"] ==12]'''"
   ]
  },
  {
   "cell_type": "code",
   "execution_count": 12,
   "metadata": {},
   "outputs": [],
   "source": [
    "def select_edges(data):\n",
    "    edges = []\n",
    "    for i in data[[\"Source\", \"Target\"]].values:\n",
    "        edges.append((i[0], i[1]))\n",
    "    return edges"
   ]
  },
  {
   "cell_type": "code",
   "execution_count": 13,
   "metadata": {},
   "outputs": [
    {
     "data": {
      "text/plain": [
       "'\\nedges_month.append(select_edges(jul))\\nedges_month.append(select_edges(aug))\\nedges_month.append(select_edges(sep))\\nedges_month.append(select_edges(ott))\\nedges_month.append(select_edges(nov))\\nedges_month.append(select_edges(dec))'"
      ]
     },
     "execution_count": 13,
     "metadata": {},
     "output_type": "execute_result"
    }
   ],
   "source": [
    "edges_month =[]\n",
    "edges_month.append(select_edges(gen))\n",
    "edges_month.append(select_edges(feb))\n",
    "edges_month.append(select_edges(mar))\n",
    "edges_month.append(select_edges(apr))\n",
    "edges_month.append(select_edges(may))\n",
    "edges_month.append(select_edges(jun))\n",
    "'''\n",
    "edges_month.append(select_edges(jul))\n",
    "edges_month.append(select_edges(aug))\n",
    "edges_month.append(select_edges(sep))\n",
    "edges_month.append(select_edges(ott))\n",
    "edges_month.append(select_edges(nov))\n",
    "edges_month.append(select_edges(dec))'''"
   ]
  },
  {
   "cell_type": "markdown",
   "metadata": {},
   "source": [
    "# 1) Algoritmi Community Discovery"
   ]
  },
  {
   "cell_type": "markdown",
   "metadata": {},
   "source": [
    "### Louvain"
   ]
  },
  {
   "cell_type": "code",
   "execution_count": 14,
   "metadata": {},
   "outputs": [],
   "source": [
    "resolution = ensemble.Parameter(name=\"resolution\", start=0.1, end=1, step=0.1)\n",
    "randomize = ensemble.BoolParameter(name=\"randomize\") # boolean range [True, False]\n",
    "parameters = [resolution, randomize]"
   ]
  },
  {
   "cell_type": "code",
   "execution_count": 15,
   "metadata": {
    "scrolled": true
   },
   "outputs": [],
   "source": [
    "louvain_n_of_comm = []\n",
    "louvain_modularity = []\n",
    "louvain_avg = []\n",
    "louvain_intdgr = []\n",
    "for i in range(len(edges_month)):\n",
    "    subgraph = nx.Graph(nx.edge_subgraph(G, edges_month[i]))\n",
    "    nx.write_graphml(subgraph, f\"/Users/damon/Desktop/Dessertion/4-Dynamic Community Discovery/subgraph_month_{i}.graphml\")\n",
    "    \n",
    "    #nx.write_graphml(subgraph, f\"CommunityDiscovery/subgraph_month_{i}.graphml\")\n",
    "    \n",
    "    louvain_coms, scoring = ensemble.random_search(graph=subgraph, method=algorithms.louvain,\n",
    "                                                       parameters=parameters,\n",
    "                                                       quality_score=evaluation.newman_girvan_modularity, aggregate=max)\n",
    "    louvain_n_of_comm.append(len(louvain_coms.communities))\n",
    "    louvain_modularity.append(louvain_coms.newman_girvan_modularity())\n",
    "    louvain_avg.append(louvain_coms.average_internal_degree())\n",
    "    louvain_intdgr.append(louvain_coms.internal_edge_density())\n",
    "    with open(f'/Users/damon/Desktop/Dessertion/4-Dynamic Community Discovery/communities_{i}.pickle', 'wb') as f:\n",
    "    #with open(f'CommunityDiscovery/communities_{i}.pickle', 'wb') as f:\n",
    "        pickle.dump(louvain_coms, f)"
   ]
  },
  {
   "cell_type": "markdown",
   "metadata": {},
   "source": [
    "### LabelPropagation"
   ]
  },
  {
   "cell_type": "code",
   "execution_count": 16,
   "metadata": {},
   "outputs": [],
   "source": [
    "label_n_of_comm = []\n",
    "label_modularity = []\n",
    "label_avg = []\n",
    "label_intdgr = []\n",
    "for i in range(len(edges_month)):\n",
    "    subgraph = nx.Graph(nx.edge_subgraph(G, edges_month[i]))\n",
    "    \n",
    "    label_coms = algorithms.label_propagation(subgraph)\n",
    "    label_n_of_comm.append(len(label_coms.communities))\n",
    "    label_modularity.append(label_coms.newman_girvan_modularity())\n",
    "    label_avg.append(label_coms.average_internal_degree())\n",
    "    label_intdgr.append(label_coms.internal_edge_density())"
   ]
  },
  {
   "cell_type": "markdown",
   "metadata": {},
   "source": [
    "### Demon"
   ]
  },
  {
   "cell_type": "code",
   "execution_count": 17,
   "metadata": {},
   "outputs": [],
   "source": [
    "eps = ensemble.Parameter(name=\"epsilon\", start=0.1, end=0.6, step=0.1)\n",
    "size = ensemble.Parameter(name=\"min_com_size\", start=3, end=5,step=1)"
   ]
  },
  {
   "cell_type": "code",
   "execution_count": 18,
   "metadata": {},
   "outputs": [],
   "source": [
    "demon_n_of_comm = []\n",
    "demon_modularity = []\n",
    "demon_avg = []\n",
    "demon_intdgr = []\n",
    "for i in range(len(edges_month)):\n",
    "    subgraph = nx.Graph(nx.edge_subgraph(G, edges_month[i]))\n",
    "    \n",
    "    demon_coms, scoring = ensemble.random_search(graph=subgraph, method=algorithms.demon,\n",
    "                                                       parameters=[eps, size],\n",
    "                                                       quality_score=evaluation.newman_girvan_modularity, aggregate=max)\n",
    "    demon_n_of_comm.append(len(demon_coms.communities))\n",
    "    demon_modularity.append(demon_coms.newman_girvan_modularity())\n",
    "    demon_avg.append(demon_coms.average_internal_degree())\n",
    "    demon_intdgr.append(demon_coms.internal_edge_density())"
   ]
  },
  {
   "cell_type": "code",
   "execution_count": 19,
   "metadata": {},
   "outputs": [
    {
     "data": {
      "image/png": "[encoded data removed]",
      "text/plain": [
       "<Figure size 1080x504 with 1 Axes>"
      ]
     },
     "metadata": {
      "needs_background": "light"
     },
     "output_type": "display_data"
    }
   ],
   "source": [
    "plt.figure(figsize=(15,7))\n",
    "plt.plot([i for i in range(1, 7)], louvain_n_of_comm , color='blue')\n",
    "plt.plot([i for i in range(1, 7)], label_n_of_comm , color='orange')\n",
    "plt.plot([i for i in range(1, 7)], demon_n_of_comm , color='green')\n",
    "plt.legend([\"Louvain\", \"LabelPropagation\", \"Demon\"])\n",
    "plt.title('Number of Communities per month', fontsize=14)\n",
    "plt.xlabel('Month', fontsize=14)\n",
    "plt.xticks(np.arange(7),[\"\", \"January\", \"February\", \"March\", \"April\", \"May\", \"June\"], rotation=50)\n",
    "plt.ylabel('N°Communities', fontsize=14)\n",
    "plt.grid(True)\n",
    "plt.show()"
   ]
  },
  {
   "cell_type": "markdown",
   "metadata": {},
   "source": [
    "# 2) Analisi grafi dei mesi"
   ]
  },
  {
   "cell_type": "code",
   "execution_count": 20,
   "metadata": {},
   "outputs": [],
   "source": [
    "graphs = []\n",
    "for i in range(0,6):\n",
    "    tmp = nx.read_graphml(f\"/Users/damon/Desktop/Dessertion/4-Dynamic Community Discovery/subgraph_month_{i}.graphml\")\n",
    "    graphs.append(tmp)"
   ]
  },
  {
   "cell_type": "code",
   "execution_count": 21,
   "metadata": {},
   "outputs": [
    {
     "data": {
      "text/plain": [
       "6"
      ]
     },
     "execution_count": 21,
     "metadata": {},
     "output_type": "execute_result"
    }
   ],
   "source": [
    "len(graphs)"
   ]
  },
  {
   "cell_type": "code",
   "execution_count": 22,
   "metadata": {},
   "outputs": [],
   "source": [
    "def analysis(G, idx):\n",
    "    info = []\n",
    "    #print(f\"------ ANALYSIS FOR GRAPH {idx} ------\")\n",
    "    N = G.number_of_nodes()\n",
    "    #print(f\"Number of nodes: {N}\")\n",
    "    E = G.number_of_edges()\n",
    "    #print(f\"Number of edges: {E}\")\n",
    "    LMAX = (N * (N-1))/2.0\n",
    "    #print(f\"LMAX: {LMAX}\")\n",
    "    avg_degree=(2*G.number_of_edges())/N\n",
    "    #print(f\"AVG Degree: {avg_degree}\")\n",
    "    density = nx.density(G)\n",
    "    #print(\"Density: \", density)\n",
    "    avg_cluster = nx.average_clustering(G)\n",
    "    #print(\"Avg Clustering coefficient:\", avg_cluster)\n",
    "    n_connected_component = list(nx.connected_components(G))\n",
    "    nn_components = len(n_connected_component)\n",
    "    #print(f\"Number of Connected Components for {len(n_connected_component)}: \")\n",
    "    first_component_lenght = len(n_connected_component[0])\n",
    "    #print(f\"Len First component: {first_component_lenght}\")\n",
    "    info.append(N)\n",
    "    info.append(E)\n",
    "    info.append(LMAX)\n",
    "    info.append(avg_degree)\n",
    "    info.append(density)\n",
    "    info.append(avg_cluster)\n",
    "    info.append(list(n_connected_component[0]))\n",
    "    info.append(first_component_lenght)\n",
    "    info.append(nn_components)\n",
    "    return info"
   ]
  },
  {
   "cell_type": "code",
   "execution_count": 23,
   "metadata": {},
   "outputs": [
    {
     "name": "stdout",
     "output_type": "stream",
     "text": [
      "COMPLETED GRAPH 0\n",
      "COMPLETED GRAPH 1\n",
      "COMPLETED GRAPH 2\n",
      "COMPLETED GRAPH 3\n",
      "COMPLETED GRAPH 4\n",
      "COMPLETED GRAPH 5\n"
     ]
    }
   ],
   "source": [
    "nodes = []\n",
    "edges = []\n",
    "lmax = []\n",
    "avg_degree = []\n",
    "density = []\n",
    "avg_cluster = []\n",
    "n_connected_component = []\n",
    "first_component_lenght = []\n",
    "nn_components = []\n",
    "#start_time = time.time()\n",
    "for idx, k in enumerate(graphs):\n",
    "    info = analysis(k, idx)\n",
    "    nodes.append(info[0])\n",
    "    edges.append(info[1])\n",
    "    lmax.append(info[2])\n",
    "    avg_degree.append(info[3])\n",
    "    density.append(info[4])\n",
    "    avg_cluster.append(info[5])\n",
    "    n_connected_component.append(info[6])\n",
    "    first_component_lenght.append(info[7])\n",
    "    nn_components.append(info[8])\n",
    "    print(f\"COMPLETED GRAPH {idx}\")"
   ]
  },
  {
   "cell_type": "code",
   "execution_count": 24,
   "metadata": {},
   "outputs": [],
   "source": [
    "new_df = pd.DataFrame({\"Nodes\": nodes,\n",
    "                      \"Edges\": edges,\n",
    "                      \"Lmax\": lmax,\n",
    "                      \"Avg_Degree\": avg_degree,\n",
    "                      \"Density\": density,\n",
    "                      \"Avg_Cluster\": avg_cluster,\n",
    "                      \"N_Connected_Component\": n_connected_component,\n",
    "                       \"Len_CC\":nn_components,\n",
    "                      \"First_Component_Length\": first_component_lenght,\n",
    "                       \"Month\": [i for i in range(1,7)]\n",
    "                      })\n",
    "new_df.to_csv(\"months_analysis_pt1.csv\", index=False)"
   ]
  },
  {
   "cell_type": "code",
   "execution_count": 25,
   "metadata": {},
   "outputs": [],
   "source": [
    "def paths_analysis(G, idx):\n",
    "    info = []\n",
    "    connected = nx.is_connected(G)\n",
    "    #print(f\"Is connected = {connected}\")\n",
    "    if not connected:\n",
    "        H = nx.Graph()\n",
    "        H = nx.subgraph(G,n_connected_component[0])\n",
    "        if nx.is_connected(H):\n",
    "            diameter = nx.diameter(H)\n",
    "            avg_shortest_path = nx.average_shortest_path_length(H)\n",
    "        else:\n",
    "            diameter = -1\n",
    "            avg_shortest_path = -1\n",
    "    else:\n",
    "        diameter = nx.diameter(G)\n",
    "        avg_shortest_path = nx.average_shortest_path_length(G)\n",
    "    #print(f\"Diameter network {diameter}\")\n",
    "    #print(f\"Avg Shortest path {avg_shortest_path}\")\n",
    "    info.append(diameter)\n",
    "    info.append(avg_shortest_path)\n",
    "    return info"
   ]
  },
  {
   "cell_type": "code",
   "execution_count": 26,
   "metadata": {},
   "outputs": [
    {
     "name": "stdout",
     "output_type": "stream",
     "text": [
      "COMPLETED GRAPH 0\n",
      "COMPLETED GRAPH 1\n",
      "COMPLETED GRAPH 2\n",
      "COMPLETED GRAPH 3\n",
      "COMPLETED GRAPH 4\n",
      "COMPLETED GRAPH 5\n"
     ]
    }
   ],
   "source": [
    "diameter = []\n",
    "avg_shortest_path = []\n",
    "nn_components = []\n",
    "#start_time = time.time()\n",
    "for idx, k in enumerate(graphs):\n",
    "    info = paths_analysis(k, idx)\n",
    "    diameter.append(info[0])\n",
    "    avg_shortest_path.append(info[1])\n",
    "    print(f\"COMPLETED GRAPH {idx}\")"
   ]
  },
  {
   "cell_type": "code",
   "execution_count": 27,
   "metadata": {},
   "outputs": [
    {
     "data": {
      "text/plain": [
       "[8, -1, -1, -1, -1, -1]"
      ]
     },
     "execution_count": 27,
     "metadata": {},
     "output_type": "execute_result"
    }
   ],
   "source": [
    "diameter"
   ]
  },
  {
   "cell_type": "code",
   "execution_count": 28,
   "metadata": {},
   "outputs": [],
   "source": [
    "new_df = pd.DataFrame({\n",
    "                      \"Diameter\": diameter,\n",
    "                      \"Avg_Shortest_Path\": avg_shortest_path,\n",
    "                      })\n",
    "new_df.to_csv(\"months_analysis_pt2.csv\", index=False)"
   ]
  },
  {
   "cell_type": "code",
   "execution_count": null,
   "metadata": {},
   "outputs": [],
   "source": []
  }
 ],
 "metadata": {
  "kernelspec": {
   "display_name": "Python 3 (ipykernel)",
   "language": "python",
   "name": "python3"
  },
  "language_info": {
   "codemirror_mode": {
    "name": "ipython",
    "version": 3
   },
   "file_extension": ".py",
   "mimetype": "text/x-python",
   "name": "python",
   "nbconvert_exporter": "python",
   "pygments_lexer": "ipython3",
   "version": "3.9.13"
  }
 },
 "nbformat": 4,
 "nbformat_minor": 4
}
