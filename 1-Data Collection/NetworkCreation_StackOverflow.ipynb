{
 "cells": [
  {
   "cell_type": "code",
   "execution_count": 1,
   "metadata": {},
   "outputs": [],
   "source": [
    "import pandas as pd"
   ]
  },
  {
   "cell_type": "code",
   "execution_count": 2,
   "metadata": {},
   "outputs": [],
   "source": [
    "path = \"/Users/damon/Desktop/Dessertion/1-Data Collection/questions_2022-1-3.csv\""
   ]
  },
  {
   "cell_type": "code",
   "execution_count": 3,
   "metadata": {},
   "outputs": [],
   "source": [
    "df = pd.read_csv(path)"
   ]
  },
  {
   "cell_type": "code",
   "execution_count": 4,
   "metadata": {},
   "outputs": [
    {
     "data": {
      "text/html": [
       "<div>\n",
       "<style scoped>\n",
       "    .dataframe tbody tr th:only-of-type {\n",
       "        vertical-align: middle;\n",
       "    }\n",
       "\n",
       "    .dataframe tbody tr th {\n",
       "        vertical-align: top;\n",
       "    }\n",
       "\n",
       "    .dataframe thead th {\n",
       "        text-align: right;\n",
       "    }\n",
       "</style>\n",
       "<table border=\"1\" class=\"dataframe\">\n",
       "  <thead>\n",
       "    <tr style=\"text-align: right;\">\n",
       "      <th></th>\n",
       "      <th>Tags</th>\n",
       "      <th>User_Name</th>\n",
       "      <th>Title</th>\n",
       "      <th>View_count</th>\n",
       "      <th>Down_vote_count</th>\n",
       "      <th>Up_vote_count</th>\n",
       "      <th>Answer_count</th>\n",
       "      <th>Score</th>\n",
       "      <th>Creation_date</th>\n",
       "      <th>Question_id</th>\n",
       "      <th>Question_link</th>\n",
       "      <th>Is_Answered</th>\n",
       "    </tr>\n",
       "  </thead>\n",
       "  <tbody>\n",
       "    <tr>\n",
       "      <th>0</th>\n",
       "      <td>android|-|android-gradle-plugin|-|android-arch...</td>\n",
       "      <td>ianhanniballake</td>\n",
       "      <td>Unable to load class AndroidComponentsExtensio...</td>\n",
       "      <td>15963</td>\n",
       "      <td>0</td>\n",
       "      <td>131</td>\n",
       "      <td>8</td>\n",
       "      <td>131</td>\n",
       "      <td>131</td>\n",
       "      <td>1643157920</td>\n",
       "      <td>70857476</td>\n",
       "      <td>https://stackoverflow.com/questions/70857476/u...</td>\n",
       "    </tr>\n",
       "    <tr>\n",
       "      <th>1</th>\n",
       "      <td>python|-|cpython|-|python-internals|-|</td>\n",
       "      <td>Kelly Bundy</td>\n",
       "      <td>Can we make 1 == 2 true?</td>\n",
       "      <td>7427</td>\n",
       "      <td>10</td>\n",
       "      <td>111</td>\n",
       "      <td>3</td>\n",
       "      <td>101</td>\n",
       "      <td>101</td>\n",
       "      <td>1643300597</td>\n",
       "      <td>70882092</td>\n",
       "      <td>https://stackoverflow.com/questions/70882092/c...</td>\n",
       "    </tr>\n",
       "    <tr>\n",
       "      <th>2</th>\n",
       "      <td>python|-|windows|-|visual-studio-2022|-|</td>\n",
       "      <td>Starfleet Security</td>\n",
       "      <td>Unable to restore Visual Studio 2022 window (I...</td>\n",
       "      <td>4972</td>\n",
       "      <td>2</td>\n",
       "      <td>95</td>\n",
       "      <td>8</td>\n",
       "      <td>93</td>\n",
       "      <td>93</td>\n",
       "      <td>1645204638</td>\n",
       "      <td>71177450</td>\n",
       "      <td>https://stackoverflow.com/questions/71177450/u...</td>\n",
       "    </tr>\n",
       "    <tr>\n",
       "      <th>3</th>\n",
       "      <td>git|-|github|-|deployment|-|github-actions|-|</td>\n",
       "      <td>monofal</td>\n",
       "      <td>The unauthenticated git protocol on port 9418 ...</td>\n",
       "      <td>68471</td>\n",
       "      <td>0</td>\n",
       "      <td>89</td>\n",
       "      <td>10</td>\n",
       "      <td>89</td>\n",
       "      <td>89</td>\n",
       "      <td>1641888743</td>\n",
       "      <td>70663523</td>\n",
       "      <td>https://stackoverflow.com/questions/70663523/t...</td>\n",
       "    </tr>\n",
       "    <tr>\n",
       "      <th>4</th>\n",
       "      <td>python|-|c++|-|python-3.x|-|rounding|-|integer...</td>\n",
       "      <td>Rick</td>\n",
       "      <td>What&amp;#39;s the mathematical reason behind Pyth...</td>\n",
       "      <td>7644</td>\n",
       "      <td>0</td>\n",
       "      <td>85</td>\n",
       "      <td>8</td>\n",
       "      <td>85</td>\n",
       "      <td>85</td>\n",
       "      <td>1642342052</td>\n",
       "      <td>70730831</td>\n",
       "      <td>https://stackoverflow.com/questions/70730831/w...</td>\n",
       "    </tr>\n",
       "  </tbody>\n",
       "</table>\n",
       "</div>"
      ],
      "text/plain": [
       "                                                Tags           User_Name  \\\n",
       "0  android|-|android-gradle-plugin|-|android-arch...     ianhanniballake   \n",
       "1             python|-|cpython|-|python-internals|-|         Kelly Bundy   \n",
       "2           python|-|windows|-|visual-studio-2022|-|  Starfleet Security   \n",
       "3      git|-|github|-|deployment|-|github-actions|-|             monofal   \n",
       "4  python|-|c++|-|python-3.x|-|rounding|-|integer...                Rick   \n",
       "\n",
       "                                               Title  View_count  \\\n",
       "0  Unable to load class AndroidComponentsExtensio...       15963   \n",
       "1                           Can we make 1 == 2 true?        7427   \n",
       "2  Unable to restore Visual Studio 2022 window (I...        4972   \n",
       "3  The unauthenticated git protocol on port 9418 ...       68471   \n",
       "4  What&#39;s the mathematical reason behind Pyth...        7644   \n",
       "\n",
       "   Down_vote_count  Up_vote_count  Answer_count  Score  Creation_date  \\\n",
       "0                0            131             8    131            131   \n",
       "1               10            111             3    101            101   \n",
       "2                2             95             8     93             93   \n",
       "3                0             89            10     89             89   \n",
       "4                0             85             8     85             85   \n",
       "\n",
       "   Question_id  Question_link  \\\n",
       "0   1643157920       70857476   \n",
       "1   1643300597       70882092   \n",
       "2   1645204638       71177450   \n",
       "3   1641888743       70663523   \n",
       "4   1642342052       70730831   \n",
       "\n",
       "                                         Is_Answered  \n",
       "0  https://stackoverflow.com/questions/70857476/u...  \n",
       "1  https://stackoverflow.com/questions/70882092/c...  \n",
       "2  https://stackoverflow.com/questions/71177450/u...  \n",
       "3  https://stackoverflow.com/questions/70663523/t...  \n",
       "4  https://stackoverflow.com/questions/70730831/w...  "
      ]
     },
     "execution_count": 4,
     "metadata": {},
     "output_type": "execute_result"
    }
   ],
   "source": [
    "df.head()"
   ]
  },
  {
   "cell_type": "code",
   "execution_count": 5,
   "metadata": {},
   "outputs": [],
   "source": [
    "tags_dict = {}\n",
    "for i in range(len(df)):\n",
    "    ll = df[\"Tags\"][i].split(\"|-|\")[:-1]\n",
    "    for tg in ll:\n",
    "        if tg not in tags_dict:\n",
    "            tags_dict[tg] = [df[\"Question_id\"][i]]\n",
    "        else:\n",
    "            tags_dict[tg].append(df[\"Question_id\"][i])"
   ]
  },
  {
   "cell_type": "code",
   "execution_count": 13,
   "metadata": {},
   "outputs": [],
   "source": [
    "tags = list(tags_dict.keys())\n",
    "couple_tags = []\n",
    "for i in range(len(tags)):\n",
    "    for j in tags[i+1:]:\n",
    "        couple_tags.append((tags[i], j))    "
   ]
  },
  {
   "cell_type": "code",
   "execution_count": 7,
   "metadata": {},
   "outputs": [
    {
     "data": {
      "text/plain": [
       "98049006"
      ]
     },
     "execution_count": 7,
     "metadata": {},
     "output_type": "execute_result"
    }
   ],
   "source": [
    "len(couple_tags)"
   ]
  },
  {
   "cell_type": "code",
   "execution_count": 8,
   "metadata": {},
   "outputs": [
    {
     "data": {
      "text/plain": [
       "14004"
      ]
     },
     "execution_count": 8,
     "metadata": {},
     "output_type": "execute_result"
    }
   ],
   "source": [
    "len(tags)"
   ]
  },
  {
   "cell_type": "code",
   "execution_count": null,
   "metadata": {},
   "outputs": [],
   "source": [
    "source = []\n",
    "target = []\n",
    "count = []\n",
    "nodes = []\n",
    "for i in couple_tags:\n",
    "    ll = list(set(tags_dict[i[0]]) & set(tags_dict[i[1]]))\n",
    "    if len(ll)>0:\n",
    "        source.append(i[0])\n",
    "        target.append(i[1])\n",
    "        count.append(len(ll))\n",
    "        nodes.append(i[0])\n",
    "        nodes.append(i[1])"
   ]
  },
  {
   "cell_type": "code",
   "execution_count": 10,
   "metadata": {},
   "outputs": [],
   "source": [
    "nodes = list(set(nodes))"
   ]
  },
  {
   "cell_type": "code",
   "execution_count": 11,
   "metadata": {},
   "outputs": [],
   "source": [
    "new_df = pd.DataFrame({\"Id\": nodes})\n",
    "new_df.to_csv(\"/Users/damon/Desktop/Dessertion/1-Data Collection/nodes.csv\", index=False)"
   ]
  },
  {
   "cell_type": "code",
   "execution_count": 12,
   "metadata": {},
   "outputs": [],
   "source": [
    "new_df = pd.DataFrame({\"Source\": source,\n",
    "                       \"Target\": target,\n",
    "                      \"Count\": count})\n",
    "new_df.to_csv(\"/Users/damon/Desktop/Dessertion/1-Data Collection/edges.csv\", index=False)"
   ]
  },
  {
   "cell_type": "code",
   "execution_count": null,
   "metadata": {},
   "outputs": [],
   "source": []
  }
 ],
 "metadata": {
  "kernelspec": {
   "display_name": "Python 3 (ipykernel)",
   "language": "python",
   "name": "python3"
  },
  "language_info": {
   "codemirror_mode": {
    "name": "ipython",
    "version": 3
   },
   "file_extension": ".py",
   "mimetype": "text/x-python",
   "name": "python",
   "nbconvert_exporter": "python",
   "pygments_lexer": "ipython3",
   "version": "3.9.13"
  }
 },
 "nbformat": 4,
 "nbformat_minor": 4
}
