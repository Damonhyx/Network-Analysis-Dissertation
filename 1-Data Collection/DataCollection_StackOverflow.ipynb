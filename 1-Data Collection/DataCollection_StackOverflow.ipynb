{
 "cells": [
  {
   "cell_type": "markdown",
   "metadata": {},
   "source": [
    "# 1 - Data Crawling"
   ]
  },
  {
   "cell_type": "code",
   "execution_count": 2,
   "metadata": {},
   "outputs": [
    {
     "name": "stdout",
     "output_type": "stream",
     "text": [
      "Requirement already satisfied: stackapi in /Library/Frameworks/Python.framework/Versions/3.8/lib/python3.8/site-packages (0.2.0)\n",
      "Requirement already satisfied: requests in /Library/Frameworks/Python.framework/Versions/3.8/lib/python3.8/site-packages (from stackapi) (2.27.1)\n",
      "Requirement already satisfied: six in /Library/Frameworks/Python.framework/Versions/3.8/lib/python3.8/site-packages (from stackapi) (1.16.0)\n",
      "Requirement already satisfied: urllib3<1.27,>=1.21.1 in /Library/Frameworks/Python.framework/Versions/3.8/lib/python3.8/site-packages (from requests->stackapi) (1.26.7)\n",
      "Requirement already satisfied: certifi>=2017.4.17 in /Library/Frameworks/Python.framework/Versions/3.8/lib/python3.8/site-packages (from requests->stackapi) (2021.10.8)\n",
      "Requirement already satisfied: idna<4,>=2.5 in /Library/Frameworks/Python.framework/Versions/3.8/lib/python3.8/site-packages (from requests->stackapi) (3.3)\n",
      "Requirement already satisfied: charset-normalizer~=2.0.0 in /Library/Frameworks/Python.framework/Versions/3.8/lib/python3.8/site-packages (from requests->stackapi) (2.0.7)\n",
      "\u001b[33mWARNING: You are using pip version 22.0.4; however, version 22.1.2 is available.\n",
      "You should consider upgrading via the '/usr/local/bin/python3.8 -m pip install --upgrade pip' command.\u001b[0m\u001b[33m\n",
      "\u001b[0mNote: you may need to restart the kernel to use updated packages.\n"
     ]
    }
   ],
   "source": [
    "pip install stackapi"
   ]
  },
  {
   "cell_type": "code",
   "execution_count": 4,
   "metadata": {},
   "outputs": [],
   "source": [
    "from stackapi import StackAPI\n",
    "import os\n",
    "import json\n",
    "import time\n",
    "import pandas as pd"
   ]
  },
  {
   "cell_type": "code",
   "execution_count": 5,
   "metadata": {},
   "outputs": [],
   "source": [
    "SITE = StackAPI('stackoverflow',   key = \"Y5FZk9DrTbRImUEfiQ5JJg((\" , impose_throttling = True)"
   ]
  },
  {
   "cell_type": "code",
   "execution_count": 6,
   "metadata": {},
   "outputs": [],
   "source": [
    "SITE.page_size = 100\n",
    "SITE.max_pages = 500"
   ]
  },
  {
   "cell_type": "markdown",
   "metadata": {},
   "source": [
    "Research from 2022.1.1 Gennaio 2021 to 2022.1.2 Gennaio 2022 sort by votes"
   ]
  },
  {
   "cell_type": "code",
   "execution_count": 7,
   "metadata": {},
   "outputs": [],
   "source": [
    "questions = SITE.fetch(\"questions\", filter = '!)rTkr_OQd(vR1j2O5o_q', fromdate = 1640966400, todate = 1648742400, sort = 'votes')"
   ]
  },
  {
   "cell_type": "code",
   "execution_count": 8,
   "metadata": {},
   "outputs": [
    {
     "data": {
      "text/plain": [
       "50000"
      ]
     },
     "execution_count": 8,
     "metadata": {},
     "output_type": "execute_result"
    }
   ],
   "source": [
    "len(questions[\"items\"])"
   ]
  },
  {
   "cell_type": "code",
   "execution_count": 9,
   "metadata": {},
   "outputs": [
    {
     "data": {
      "text/plain": [
       "{'tags': ['android',\n",
       "  'android-gradle-plugin',\n",
       "  'android-architecture-navigation',\n",
       "  'firebase-performance',\n",
       "  'android-safe-args'],\n",
       " 'owner': {'reputation': 176096,\n",
       "  'user_id': 1676363,\n",
       "  'user_type': 'registered',\n",
       "  'accept_rate': 100,\n",
       "  'profile_image': 'https://www.gravatar.com/avatar/44dac57d3bb65805bc3df4409d019c83?s=256&d=identicon&r=PG',\n",
       "  'display_name': 'ianhanniballake',\n",
       "  'link': 'https://stackoverflow.com/users/1676363/ianhanniballake'},\n",
       " 'is_answered': True,\n",
       " 'view_count': 15963,\n",
       " 'down_vote_count': 0,\n",
       " 'up_vote_count': 131,\n",
       " 'accepted_answer_id': 70857477,\n",
       " 'answer_count': 8,\n",
       " 'score': 131,\n",
       " 'last_activity_date': 1651646324,\n",
       " 'creation_date': 1643157920,\n",
       " 'question_id': 70857476,\n",
       " 'link': 'https://stackoverflow.com/questions/70857476/unable-to-load-class-androidcomponentsextension-after-upgrading-the-android-grad',\n",
       " 'title': 'Unable to load class AndroidComponentsExtension after upgrading the Android Gradle Plugin 7.1'}"
      ]
     },
     "execution_count": 9,
     "metadata": {},
     "output_type": "execute_result"
    }
   ],
   "source": [
    "questions[\"items\"][0]"
   ]
  },
  {
   "cell_type": "code",
   "execution_count": 10,
   "metadata": {},
   "outputs": [],
   "source": [
    "tags_dict = {}\n",
    "for i in questions[\"items\"]:\n",
    "    tags = i[\"tags\"]\n",
    "    for tg in tags:\n",
    "        if tg not in tags_dict:\n",
    "            tags_dict[tg] = []\n",
    "            tags_dict[tg].append(i[\"question_id\"])\n",
    "        else:\n",
    "            tags_dict[tg].append(i[\"question_id\"])"
   ]
  },
  {
   "cell_type": "code",
   "execution_count": 11,
   "metadata": {},
   "outputs": [
    {
     "data": {
      "text/plain": [
       "14004"
      ]
     },
     "execution_count": 11,
     "metadata": {},
     "output_type": "execute_result"
    }
   ],
   "source": [
    "len(tags_dict)"
   ]
  },
  {
   "cell_type": "markdown",
   "metadata": {},
   "source": [
    "Data Storage"
   ]
  },
  {
   "cell_type": "code",
   "execution_count": 12,
   "metadata": {},
   "outputs": [],
   "source": [
    "info_quest = []\n",
    "for i in questions[\"items\"]:\n",
    "    # question tags\n",
    "    tags = i[\"tags\"] \n",
    "    is_answered = i[\"is_answered\"]\n",
    "    # User name\n",
    "    display_name = i[\"owner\"][\"display_name\"]\n",
    "    # Questions view count\n",
    "    view_count = i[\"view_count\"]\n",
    "    # Question down vote\n",
    "    down_vote_count = i[\"down_vote_count\"]\n",
    "    # Question up vote\n",
    "    up_vote_count = i[\"up_vote_count\"]\n",
    "    # Question answer's count\n",
    "    answer_count = i[\"answer_count\"]\n",
    "    # Question score\n",
    "    score = i[\"score\"]\n",
    "    # Creation date\n",
    "    creation_date = i[\"creation_date\"]\n",
    "    # Question id\n",
    "    question_id = i[\"question_id\"]\n",
    "    # Question link\n",
    "    q_link = i[\"link\"]\n",
    "    # Question title\n",
    "    title = i[\"title\"]\n",
    "    info_quest.append((\n",
    "            tags,\n",
    "            display_name,\n",
    "            title,\n",
    "            view_count,\n",
    "            down_vote_count,\n",
    "            up_vote_count,\n",
    "            answer_count,\n",
    "            score,\n",
    "            creation_date,\n",
    "            question_id,\n",
    "            q_link,\n",
    "            is_answered))"
   ]
  },
  {
   "cell_type": "code",
   "execution_count": 13,
   "metadata": {},
   "outputs": [],
   "source": [
    "tags = []\n",
    "display_name = []\n",
    "title = []\n",
    "view_count = []\n",
    "down_vote_count = []\n",
    "up_vote_count = []\n",
    "answer_count = []\n",
    "score = []\n",
    "creation_date = []\n",
    "question_id = []\n",
    "q_link = []\n",
    "is_answered = []\n",
    "for i in info_quest:\n",
    "    s = \"\"\n",
    "    for tt in i[0]:\n",
    "        s = s + tt + \"|-|\"\n",
    "    tags.append(s)\n",
    "    display_name.append(i[1])\n",
    "    title.append(i[2])\n",
    "    view_count.append(i[3])\n",
    "    down_vote_count.append(i[4])\n",
    "    up_vote_count.append(i[5])\n",
    "    answer_count.append(i[6])\n",
    "    score.append(i[7])\n",
    "    creation_date.append(i[7])\n",
    "    question_id.append(i[8])\n",
    "    q_link.append(i[9])\n",
    "    is_answered.append(i[10])"
   ]
  },
  {
   "cell_type": "code",
   "execution_count": 14,
   "metadata": {},
   "outputs": [],
   "source": [
    "df = pd.DataFrame({\"Tags\": tags,\n",
    "                   \"User_Name\": display_name, \"Title\": title,\n",
    "                   \"View_count\": view_count, \"Down_vote_count\": down_vote_count, \"Up_vote_count\": up_vote_count,\n",
    "                   \"Answer_count\": answer_count, \"Score\": score, \"Creation_date\": creation_date, \n",
    "                   \"Question_id\": question_id, \"Question_link\": q_link, \"Is_Answered\":is_answered})\n",
    "df.to_csv(\"/Users/damon/Desktop/Dessertion/1-Data Collection/questions_2022-1-3.csv\", index=False)"
   ]
  },
  {
   "cell_type": "code",
   "execution_count": null,
   "metadata": {},
   "outputs": [],
   "source": []
  },
  {
   "cell_type": "code",
   "execution_count": null,
   "metadata": {},
   "outputs": [],
   "source": []
  }
 ],
 "metadata": {
  "kernelspec": {
   "display_name": "Python 3 (ipykernel)",
   "language": "python",
   "name": "python3"
  },
  "language_info": {
   "codemirror_mode": {
    "name": "ipython",
    "version": 3
   },
   "file_extension": ".py",
   "mimetype": "text/x-python",
   "name": "python",
   "nbconvert_exporter": "python",
   "pygments_lexer": "ipython3",
   "version": "3.9.13"
  }
 },
 "nbformat": 4,
 "nbformat_minor": 4
}
