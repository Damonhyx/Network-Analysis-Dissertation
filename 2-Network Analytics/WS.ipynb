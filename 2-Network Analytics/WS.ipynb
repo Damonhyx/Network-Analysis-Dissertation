{
 "cells": [
  {
   "cell_type": "code",
   "execution_count": 1,
   "metadata": {},
   "outputs": [],
   "source": [
    "import networkx as nx\n",
    "import numpy as np\n",
    "import pandas as pd\n",
    "import matplotlib.pyplot as plt\n",
    "from collections import Counter\n",
    "from operator import itemgetter\n",
    "import powerlaw\n",
    "from networkx.drawing.nx_agraph import graphviz_layout\n",
    "import pickle\n",
    "from statistics import mean, stdev\n",
    "import seaborn as sns"
   ]
  },
  {
   "cell_type": "code",
   "execution_count": 2,
   "metadata": {},
   "outputs": [],
   "source": [
    "path = \"/Users/damon/Desktop/Dessertion/1-Data Collection/edges.csv\""
   ]
  },
  {
   "cell_type": "code",
   "execution_count": 3,
   "metadata": {},
   "outputs": [],
   "source": [
    "path_graph = \"/Users/damon/Desktop/Dessertion/2-Network Analysis/\""
   ]
  },
  {
   "cell_type": "code",
   "execution_count": 4,
   "metadata": {},
   "outputs": [],
   "source": [
    "G = nx.read_edgelist(path, comments = \"S\", delimiter = \",\", data=((\"Count\", int),))"
   ]
  },
  {
   "cell_type": "code",
   "execution_count": 5,
   "metadata": {},
   "outputs": [
    {
     "name": "stdout",
     "output_type": "stream",
     "text": [
      "Graph with 13904 nodes and 93275 edges\n"
     ]
    },
    {
     "name": "stderr",
     "output_type": "stream",
     "text": [
      "/var/folders/7r/_sxj1fdj35s2vf0dwxh35nnc0000gn/T/ipykernel_1151/2606185536.py:1: DeprecationWarning: info is deprecated and will be removed in version 3.0.\n",
      "\n",
      "  print(nx.info(G))\n"
     ]
    }
   ],
   "source": [
    "print(nx.info(G))"
   ]
  },
  {
   "cell_type": "code",
   "execution_count": 6,
   "metadata": {},
   "outputs": [
    {
     "name": "stdout",
     "output_type": "stream",
     "text": [
      "Nodes: 13904\n",
      "Edges: 97328\n"
     ]
    }
   ],
   "source": [
    "ws_G = nx.watts_strogatz_graph(G.number_of_nodes(), k=14, p=0.1, seed = 42)\n",
    "print(\"Nodes:\",ws_G.number_of_nodes())\n",
    "print(\"Edges:\",ws_G.number_of_edges())"
   ]
  },
  {
   "cell_type": "code",
   "execution_count": 7,
   "metadata": {},
   "outputs": [],
   "source": [
    "nx.write_graphml(ws_G, path_graph+\"WS_Network.graphml\")"
   ]
  },
  {
   "cell_type": "markdown",
   "metadata": {},
   "source": [
    "## 1 - Degree Distribution"
   ]
  },
  {
   "cell_type": "code",
   "execution_count": 8,
   "metadata": {},
   "outputs": [],
   "source": [
    "path_img = \"/Users/damon/Desktop/Dessertion/2-Network Analysis\"\n",
    "path_graph = \"/Users/damon/Desktop/Dessertion/2-Network Analysis\"\n",
    "\n",
    "def degree_dist(G, name, directory):\n",
    "    hist = nx.degree_histogram(G)\n",
    "    plt.plot(range(0, len(hist)), hist, \".\")\n",
    "    plt.title(f\"Degree Distribution for {name} graph\")\n",
    "    plt.xlabel(\"Degree\")\n",
    "    plt.ylabel(\"P(k)\")\n",
    "    plt.loglog()\n",
    "    #plt.savefig(path_img+directory+\"/degree_dist_\"+name+\".png\")\n",
    "    plt.show()"
   ]
  },
  {
   "cell_type": "code",
   "execution_count": 9,
   "metadata": {
    "scrolled": true
   },
   "outputs": [
    {
     "data": {
      "image/png": "[encoded data removed]",
      "text/plain": [
       "<Figure size 432x288 with 1 Axes>"
      ]
     },
     "metadata": {
      "needs_background": "light"
     },
     "output_type": "display_data"
    }
   ],
   "source": [
    "degree_dist(ws_G, \"Watts_Strogatz\", \"WS\")"
   ]
  },
  {
   "cell_type": "code",
   "execution_count": 10,
   "metadata": {},
   "outputs": [],
   "source": [
    "def plot_dist(G, name, directory):\n",
    "    M = nx.to_scipy_sparse_matrix(G)\n",
    "    xmin = min([d[1] for d in G.degree()])\n",
    "    indegrees = M.sum(0).A[0]\n",
    "    degree = np.bincount(indegrees)\n",
    "    fit = powerlaw.Fit(np.array(degree)+1, fit_method='KS')#, xmin=xmin, xmax=max(degree)-xmin,discrete=True)\n",
    "    \n",
    "    fig = plt.figure(figsize=(16, 6)) \n",
    "    print(f\"**** Degree Distribution for {name} graph ****\")\n",
    "    \"\"\" Plot Distribution \"\"\"\n",
    "    plt.subplot(1, 3, 1)\n",
    "    plt.plot(range(len(degree)),degree,'b.')   \n",
    "    plt.loglog()\n",
    "    plt.xlim((min(degree), max(degree)))\n",
    "    plt.xlabel('Degree')\n",
    "    plt.ylabel('P(k)')\n",
    "\n",
    "\n",
    "    \"\"\" Plot CDF \"\"\"\n",
    "    plt.subplot(1, 3, 2)\n",
    "    fit.plot_cdf()\n",
    "    plt.xlabel(\"Degree\")\n",
    "    plt.ylabel('CDF')\n",
    "\n",
    "    \"\"\" Plot CCDF \"\"\"\n",
    "    plt.subplot(1, 3, 3)\n",
    "    fit.power_law.plot_pdf(color='r',linestyle='--',label='fit ccdf')\n",
    "    fit.plot_ccdf()\n",
    "    plt.ylabel('CCDF')\n",
    "    plt.xlabel('Degree')\n",
    "    plt.tight_layout()\n",
    "    #plt.savefig(path_img+directory+\"/degree_distribution_compare_\"+name+\".png\")\n",
    "    plt.show()\n",
    "    print(f'alpha={fit.power_law.alpha+1} sigma={fit.power_law.sigma}')"
   ]
  },
  {
   "cell_type": "code",
   "execution_count": 11,
   "metadata": {},
   "outputs": [
    {
     "name": "stderr",
     "output_type": "stream",
     "text": [
      "/var/folders/7r/_sxj1fdj35s2vf0dwxh35nnc0000gn/T/ipykernel_1151/165580856.py:2: DeprecationWarning: \n",
      "\n",
      "The scipy.sparse array containers will be used instead of matrices\n",
      "in Networkx 3.0. Use `to_scipy_sparse_array` instead.\n",
      "  M = nx.to_scipy_sparse_matrix(G)\n",
      "/var/folders/7r/_sxj1fdj35s2vf0dwxh35nnc0000gn/T/ipykernel_1151/165580856.py:14: UserWarning: Attempted to set non-positive left xlim on a log-scaled axis.\n",
      "Invalid limit will be ignored.\n",
      "  plt.xlim((min(degree), max(degree)))\n"
     ]
    },
    {
     "name": "stdout",
     "output_type": "stream",
     "text": [
      "Calculating best minimal value for power law fit\n",
      "xmin progress: 00%\r",
      "xmin progress: 09%\r",
      "xmin progress: 18%\r",
      "xmin progress: 27%\r",
      "xmin progress: 36%\r",
      "xmin progress: 45%\r",
      "xmin progress: 54%\r",
      "xmin progress: 63%\r",
      "xmin progress: 72%\r",
      "xmin progress: 81%\r",
      "xmin progress: 90%\r",
      "**** Degree Distribution for Watts_Strogatz graph ****\n"
     ]
    },
    {
     "data": {
      "image/png": "[encoded data removed]",
      "text/plain": [
       "<Figure size 1152x432 with 3 Axes>"
      ]
     },
     "metadata": {
      "needs_background": "light"
     },
     "output_type": "display_data"
    },
    {
     "name": "stdout",
     "output_type": "stream",
     "text": [
      "alpha=2.35717333269719 sigma=0.07794161110973905\n"
     ]
    }
   ],
   "source": [
    "plot_dist(ws_G, \"Watts_Strogatz\", \"WS\")"
   ]
  },
  {
   "cell_type": "code",
   "execution_count": 12,
   "metadata": {},
   "outputs": [],
   "source": [
    "def info_degree(G, name):\n",
    "    print(f\"***** Degree info for {name} graph ***\")\n",
    "    degree_sequence = sorted([(d, n) for n, d in G.degree()], reverse=True)\n",
    "    dmax = max(degree_sequence)\n",
    "    print(\"Maximum degree:\", dmax)\n",
    "    dmin = min(degree_sequence)\n",
    "    print(\"Minimum degree:\", dmin)"
   ]
  },
  {
   "cell_type": "code",
   "execution_count": 13,
   "metadata": {},
   "outputs": [
    {
     "name": "stdout",
     "output_type": "stream",
     "text": [
      "***** Degree info for Watts_Strogatz graph ***\n",
      "Maximum degree: (20, 6189)\n",
      "Minimum degree: (10, 84)\n"
     ]
    }
   ],
   "source": [
    "info_degree(ws_G, \"Watts_Strogatz\")"
   ]
  },
  {
   "cell_type": "markdown",
   "metadata": {},
   "source": [
    "## 2 - Connected Components"
   ]
  },
  {
   "cell_type": "code",
   "execution_count": 14,
   "metadata": {},
   "outputs": [],
   "source": [
    "def n_connected_components(G, name):\n",
    "    print(f\"**** Connected components for {name} graph ****\")\n",
    "    # list of connected components\n",
    "    n_connected_component = list(nx.connected_components(G))\n",
    "    print(f\"Number of Connected Components for {name}: {len(n_connected_component)}\")\n",
    "    for i in range(len(n_connected_component)):\n",
    "        if i < 3:\n",
    "            print(f\"\\t component len = {len(n_connected_component[i])}\")\n",
    "    # Giant component -> Identify and store giant component\n",
    "    H = nx.Graph()\n",
    "    H = nx.subgraph(G,n_connected_component[0])\n",
    "    nx.write_graphml(G, path_graph+\"/giant_component/\"+ name+\".graphml\")\n",
    "    return n_connected_component"
   ]
  },
  {
   "cell_type": "code",
   "execution_count": 15,
   "metadata": {},
   "outputs": [
    {
     "name": "stdout",
     "output_type": "stream",
     "text": [
      "**** Connected components for Watts_Strogatz graph ****\n",
      "Number of Connected Components for Watts_Strogatz: 1\n",
      "\t component len = 13904\n"
     ]
    }
   ],
   "source": [
    "components = n_connected_components(ws_G, \"Watts_Strogatz\")"
   ]
  },
  {
   "cell_type": "markdown",
   "metadata": {},
   "source": [
    "## 3 - Path Analysis"
   ]
  },
  {
   "cell_type": "code",
   "execution_count": 16,
   "metadata": {},
   "outputs": [],
   "source": [
    "def path_analysis(G, name, components):\n",
    "    print(f\"***** Path analysis for {name} graph\")\n",
    "    print(f\"Diameter for components 0 network {name}: {nx.diameter(G.subgraph(components[0]))}\")\n",
    "    print(f\"Average shortest path for components 0 network {name}: {nx.average_shortest_path_length(G.subgraph(components[0]))}\")"
   ]
  },
  {
   "cell_type": "code",
   "execution_count": 17,
   "metadata": {},
   "outputs": [
    {
     "name": "stdout",
     "output_type": "stream",
     "text": [
      "***** Path analysis for Watts_Strogatz graph\n",
      "Diameter for components 0 network Watts_Strogatz: 8\n",
      "Average shortest path for components 0 network Watts_Strogatz: 5.321043768897888\n"
     ]
    }
   ],
   "source": [
    "path_analysis(ws_G, \"Watts_Strogatz\", components)"
   ]
  },
  {
   "cell_type": "markdown",
   "metadata": {},
   "source": [
    "## 4 - Clustering Coefficient"
   ]
  },
  {
   "cell_type": "code",
   "execution_count": 18,
   "metadata": {},
   "outputs": [],
   "source": [
    "def c_coefficient_analysis(G, name):\n",
    "    #avg_clust_coeff(G, name)\n",
    "    clustering_g = nx.clustering(G)\n",
    "    print(f\"*** Clustering coefficient analyssi for {name} graph ***\")\n",
    "    #print(f\"CC: {clustering_g.values()}\")\n",
    "    print(f\"Min: {min(clustering_g.values())}\")\n",
    "    print(f\"Max: {max(clustering_g.values())}\")\n",
    "    print(f\"Mean: {mean(clustering_g.values())}\")\n",
    "    print(f\"Stdev: {stdev(clustering_g.values())}\")\n",
    "    return (name, clustering_g.values())"
   ]
  },
  {
   "cell_type": "code",
   "execution_count": 19,
   "metadata": {},
   "outputs": [
    {
     "name": "stdout",
     "output_type": "stream",
     "text": [
      "*** Clustering coefficient analyssi for Watts_Strogatz graph ***\n",
      "Min: 0.18095238095238095\n",
      "Max: 0.7818181818181819\n",
      "Mean: 0.5063367209752853\n",
      "Stdev: 0.09277044320551624\n"
     ]
    }
   ],
   "source": [
    "name, values = c_coefficient_analysis(ws_G, \"Watts_Strogatz\")"
   ]
  },
  {
   "cell_type": "code",
   "execution_count": 20,
   "metadata": {},
   "outputs": [],
   "source": [
    "def degree_clustering(G, name, directory):\n",
    "    print(f\"**** Distribution degree/clustering for {name} graph ***\")\n",
    "    degrees = G.degree()\n",
    "    local_clustering_coefficient= []\n",
    "    degree = []\n",
    "\n",
    "    for d in degrees:\n",
    "        local_clustering_coefficient.append(nx.clustering(G,d[0]))\n",
    "        #print(local_clustering_coefficient)\n",
    "        degree.append(d[1])\n",
    "        \n",
    "    plt.figure(figsize=(20,5))\n",
    "    plt.scatter(degree, local_clustering_coefficient)\n",
    "\n",
    "    plt.xlabel(\"k\")\n",
    "    plt.ylabel(\"C(k)\")\n",
    "    #plt.savefig(path_img+directory+\"/degree_clustering_\"+name+\".png\")\n",
    "    plt.show()"
   ]
  },
  {
   "cell_type": "code",
   "execution_count": 21,
   "metadata": {},
   "outputs": [
    {
     "name": "stdout",
     "output_type": "stream",
     "text": [
      "**** Distribution degree/clustering for Watts_Strogatz graph ***\n"
     ]
    },
    {
     "data": {
      "image/png": "[encoded data removed]",
      "text/plain": [
       "<Figure size 1440x360 with 1 Axes>"
      ]
     },
     "metadata": {
      "needs_background": "light"
     },
     "output_type": "display_data"
    }
   ],
   "source": [
    "degree_clustering(ws_G, \"Watts_Strogatz\", \"WS\")"
   ]
  },
  {
   "cell_type": "markdown",
   "metadata": {},
   "source": [
    "## 5 - Density Analysis"
   ]
  },
  {
   "cell_type": "code",
   "execution_count": 22,
   "metadata": {},
   "outputs": [],
   "source": [
    "def density_analysis(G, name):\n",
    "    print(f\"Density for {name} graph: {nx.density(G)}\")"
   ]
  },
  {
   "cell_type": "code",
   "execution_count": 23,
   "metadata": {},
   "outputs": [
    {
     "name": "stdout",
     "output_type": "stream",
     "text": [
      "Density for Watts_Strogatz graph: 0.0010069769114579587\n"
     ]
    }
   ],
   "source": [
    "density_analysis(ws_G, \"Watts_Strogatz\")"
   ]
  },
  {
   "cell_type": "code",
   "execution_count": null,
   "metadata": {},
   "outputs": [],
   "source": []
  }
 ],
 "metadata": {
  "kernelspec": {
   "display_name": "Python 3 (ipykernel)",
   "language": "python",
   "name": "python3"
  },
  "language_info": {
   "codemirror_mode": {
    "name": "ipython",
    "version": 3
   },
   "file_extension": ".py",
   "mimetype": "text/x-python",
   "name": "python",
   "nbconvert_exporter": "python",
   "pygments_lexer": "ipython3",
   "version": "3.8.10"
  }
 },
 "nbformat": 4,
 "nbformat_minor": 4
}
