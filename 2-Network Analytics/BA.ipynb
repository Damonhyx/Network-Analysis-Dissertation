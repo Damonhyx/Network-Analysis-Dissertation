{
 "cells": [
  {
   "cell_type": "code",
   "execution_count": 15,
   "metadata": {},
   "outputs": [
    {
     "name": "stdout",
     "output_type": "stream",
     "text": [
      "Requirement already satisfied: powerlaw in /Library/Frameworks/Python.framework/Versions/3.8/lib/python3.8/site-packages (1.5)\n",
      "Requirement already satisfied: scipy in /Library/Frameworks/Python.framework/Versions/3.8/lib/python3.8/site-packages (from powerlaw) (1.7.1)\n",
      "Requirement already satisfied: matplotlib in /Library/Frameworks/Python.framework/Versions/3.8/lib/python3.8/site-packages (from powerlaw) (3.4.3)\n",
      "Requirement already satisfied: numpy in /Library/Frameworks/Python.framework/Versions/3.8/lib/python3.8/site-packages (from powerlaw) (1.21.2)\n",
      "Requirement already satisfied: mpmath in /Library/Frameworks/Python.framework/Versions/3.8/lib/python3.8/site-packages (from powerlaw) (1.2.1)\n",
      "Requirement already satisfied: kiwisolver>=1.0.1 in /Library/Frameworks/Python.framework/Versions/3.8/lib/python3.8/site-packages (from matplotlib->powerlaw) (1.3.2)\n",
      "Requirement already satisfied: cycler>=0.10 in /Library/Frameworks/Python.framework/Versions/3.8/lib/python3.8/site-packages (from matplotlib->powerlaw) (0.10.0)\n",
      "Requirement already satisfied: pyparsing>=2.2.1 in /Library/Frameworks/Python.framework/Versions/3.8/lib/python3.8/site-packages (from matplotlib->powerlaw) (2.4.7)\n",
      "Requirement already satisfied: pillow>=6.2.0 in /Library/Frameworks/Python.framework/Versions/3.8/lib/python3.8/site-packages (from matplotlib->powerlaw) (8.3.2)\n",
      "Requirement already satisfied: python-dateutil>=2.7 in /Library/Frameworks/Python.framework/Versions/3.8/lib/python3.8/site-packages (from matplotlib->powerlaw) (2.8.2)\n",
      "Requirement already satisfied: six in /Library/Frameworks/Python.framework/Versions/3.8/lib/python3.8/site-packages (from cycler>=0.10->matplotlib->powerlaw) (1.16.0)\n",
      "\u001b[33mWARNING: You are using pip version 22.0.4; however, version 22.1.2 is available.\n",
      "You should consider upgrading via the '/usr/local/bin/python3.8 -m pip install --upgrade pip' command.\u001b[0m\u001b[33m\n",
      "\u001b[0mNote: you may need to restart the kernel to use updated packages.\n"
     ]
    }
   ],
   "source": [
    "pip install powerlaw"
   ]
  },
  {
   "cell_type": "code",
   "execution_count": 29,
   "metadata": {},
   "outputs": [
    {
     "name": "stdout",
     "output_type": "stream",
     "text": [
      "Requirement already satisfied: scipy in /Library/Frameworks/Python.framework/Versions/3.8/lib/python3.8/site-packages (1.7.1)\n",
      "Requirement already satisfied: numpy<1.23.0,>=1.16.5 in /Library/Frameworks/Python.framework/Versions/3.8/lib/python3.8/site-packages (from scipy) (1.21.2)\n",
      "\u001b[33mWARNING: You are using pip version 22.0.4; however, version 22.1.2 is available.\n",
      "You should consider upgrading via the '/usr/local/bin/python3.8 -m pip install --upgrade pip' command.\u001b[0m\u001b[33m\n",
      "\u001b[0mNote: you may need to restart the kernel to use updated packages.\n"
     ]
    }
   ],
   "source": [
    "pip install scipy"
   ]
  },
  {
   "cell_type": "code",
   "execution_count": 14,
   "metadata": {},
   "outputs": [
    {
     "name": "stdout",
     "output_type": "stream",
     "text": [
      "Requirement already satisfied: scipy in /Library/Frameworks/Python.framework/Versions/3.8/lib/python3.8/site-packages (1.7.1)\n",
      "Collecting scipy\n",
      "  Downloading scipy-1.8.1-cp38-cp38-macosx_12_0_universal2.macosx_10_9_x86_64.whl (55.3 MB)\n",
      "\u001b[2K     \u001b[90m━━━━━━━━━━━━━━━━━━━━━━━━━━━━━━━━━━━━━━━━\u001b[0m \u001b[32m55.3/55.3 MB\u001b[0m \u001b[31m1.1 MB/s\u001b[0m eta \u001b[36m0:00:00\u001b[0m00:01\u001b[0m00:02\u001b[0mm\n",
      "\u001b[?25hRequirement already satisfied: numpy<1.25.0,>=1.17.3 in /Library/Frameworks/Python.framework/Versions/3.8/lib/python3.8/site-packages (from scipy) (1.21.2)\n",
      "Installing collected packages: scipy\n",
      "  Attempting uninstall: scipy\n",
      "    Found existing installation: scipy 1.7.1\n",
      "    Uninstalling scipy-1.7.1:\n",
      "      Successfully uninstalled scipy-1.7.1\n",
      "Successfully installed scipy-1.8.1\n",
      "\u001b[33mWARNING: You are using pip version 22.0.4; however, version 22.1.2 is available.\n",
      "You should consider upgrading via the '/usr/local/bin/python3.8 -m pip install --upgrade pip' command.\u001b[0m\u001b[33m\n",
      "\u001b[0mNote: you may need to restart the kernel to use updated packages.\n"
     ]
    }
   ],
   "source": [
    "pip install -U scipy"
   ]
  },
  {
   "cell_type": "code",
   "execution_count": 17,
   "metadata": {},
   "outputs": [
    {
     "name": "stdout",
     "output_type": "stream",
     "text": [
      "Requirement already satisfied: networkx in /Library/Frameworks/Python.framework/Versions/3.8/lib/python3.8/site-packages (2.7.1)\n",
      "Collecting networkx\n",
      "  Downloading networkx-2.8.4-py3-none-any.whl (2.0 MB)\n",
      "\u001b[2K     \u001b[90m━━━━━━━━━━━━━━━━━━━━━━━━━━━━━━━━━━━━━━━━\u001b[0m \u001b[32m2.0/2.0 MB\u001b[0m \u001b[31m1.5 MB/s\u001b[0m eta \u001b[36m0:00:00\u001b[0m00:01\u001b[0m00:01\u001b[0m0m\n",
      "\u001b[?25hInstalling collected packages: networkx\n",
      "  Attempting uninstall: networkx\n",
      "    Found existing installation: networkx 2.7.1\n",
      "    Uninstalling networkx-2.7.1:\n",
      "      Successfully uninstalled networkx-2.7.1\n",
      "Successfully installed networkx-2.8.4\n",
      "\u001b[33mWARNING: You are using pip version 22.0.4; however, version 22.1.2 is available.\n",
      "You should consider upgrading via the '/usr/local/bin/python3.8 -m pip install --upgrade pip' command.\u001b[0m\u001b[33m\n",
      "\u001b[0mNote: you may need to restart the kernel to use updated packages.\n"
     ]
    }
   ],
   "source": [
    "pip install -U networkx"
   ]
  },
  {
   "cell_type": "code",
   "execution_count": 18,
   "metadata": {},
   "outputs": [],
   "source": [
    "import networkx as nx\n",
    "import numpy as np\n",
    "import pandas as pd\n",
    "import matplotlib.pyplot as plt\n",
    "from collections import Counter\n",
    "from operator import itemgetter\n",
    "import powerlaw\n",
    "from networkx.drawing.nx_agraph import graphviz_layout\n",
    "import pickle\n",
    "from statistics import mean, stdev\n",
    "import seaborn as sns"
   ]
  },
  {
   "cell_type": "code",
   "execution_count": 19,
   "metadata": {},
   "outputs": [],
   "source": [
    "path = \"/Users/damon/Desktop/Dessertion/1-Data Collection/edges.csv\""
   ]
  },
  {
   "cell_type": "code",
   "execution_count": 20,
   "metadata": {},
   "outputs": [],
   "source": [
    "path_graph = \"/Users/damon/Desktop/Dessertion/2-Network Analysis/\""
   ]
  },
  {
   "cell_type": "code",
   "execution_count": 21,
   "metadata": {},
   "outputs": [],
   "source": [
    "G = nx.read_edgelist(path, comments = \"S\", delimiter = \",\", data=((\"Count\", int),))"
   ]
  },
  {
   "cell_type": "code",
   "execution_count": 22,
   "metadata": {},
   "outputs": [
    {
     "name": "stdout",
     "output_type": "stream",
     "text": [
      "Graph with 13904 nodes and 93275 edges\n"
     ]
    },
    {
     "name": "stderr",
     "output_type": "stream",
     "text": [
      "/var/folders/7r/_sxj1fdj35s2vf0dwxh35nnc0000gn/T/ipykernel_74589/2606185536.py:1: DeprecationWarning: info is deprecated and will be removed in version 3.0.\n",
      "\n",
      "  print(nx.info(G))\n"
     ]
    }
   ],
   "source": [
    "print(nx.info(G))"
   ]
  },
  {
   "cell_type": "code",
   "execution_count": 23,
   "metadata": {
    "scrolled": true
   },
   "outputs": [
    {
     "name": "stdout",
     "output_type": "stream",
     "text": [
      "Nodes: 13904\n",
      "Edges: 97279\n"
     ]
    }
   ],
   "source": [
    "ba_G = nx.barabasi_albert_graph(G.number_of_nodes(), 7, seed = 42)\n",
    "print(\"Nodes:\",ba_G.number_of_nodes())\n",
    "print(\"Edges:\",ba_G.number_of_edges())"
   ]
  },
  {
   "cell_type": "code",
   "execution_count": 24,
   "metadata": {},
   "outputs": [],
   "source": [
    "nx.write_graphml(ba_G, path_graph+\"BA_Network.graphml\")"
   ]
  },
  {
   "cell_type": "markdown",
   "metadata": {},
   "source": [
    "## 1 - Degree Distribution"
   ]
  },
  {
   "cell_type": "code",
   "execution_count": 25,
   "metadata": {},
   "outputs": [],
   "source": [
    "path_img = \"/Users/damon/Desktop/Dessertion/2-Network Analysis\"\n",
    "path_graph = \"/Users/damon/Desktop/Dessertion/2-Network Analysis\"\n",
    "\n",
    "def degree_dist(G, name, directory):\n",
    "    hist = nx.degree_histogram(G)\n",
    "    plt.plot(range(0, len(hist)), hist, \".\")\n",
    "    plt.title(f\"Degree Distribution for {name} graph\")\n",
    "    plt.xlabel(\"Degree\")\n",
    "    plt.ylabel(\"P(k)\")\n",
    "    plt.loglog()\n",
    "   # plt.savefig(path_img+directory+\"/degree_dist_\"+name+\".png\")\n",
    "    plt.show()"
   ]
  },
  {
   "cell_type": "code",
   "execution_count": 26,
   "metadata": {
    "scrolled": true
   },
   "outputs": [
    {
     "data": {
      "image/png": "[encoded data removed]",
      "text/plain": [
       "<Figure size 432x288 with 1 Axes>"
      ]
     },
     "metadata": {
      "needs_background": "light"
     },
     "output_type": "display_data"
    }
   ],
   "source": [
    "degree_dist(ba_G, \"Barabasi_Albert\", \"BA\")"
   ]
  },
  {
   "cell_type": "code",
   "execution_count": 27,
   "metadata": {},
   "outputs": [],
   "source": [
    "import networkx as nx\n",
    "import powerlaw\n",
    "from networkx.drawing.nx_agraph import graphviz_layout\n",
    "def plot_dist(G, name, directory):\n",
    "    M = nx.to_scipy_sparse_matrix(G)\n",
    "    #M = nx.to_numpy_matrix(G)\n",
    "    xmin = min([d[1] for d in G.degree()])\n",
    "    indegrees = M.sum(0).A[0]\n",
    "    degree = np.bincount(indegrees)\n",
    "    fit = powerlaw.Fit(np.array(degree)+1, fit_method='KS')#, xmin=xmin, xmax=max(degree)-xmin,discrete=True)\n",
    "    \n",
    "    fig = plt.figure(figsize=(16, 6)) \n",
    "    print(f\"**** Degree Distribution for {name} graph ****\")\n",
    "    \"\"\" Plot Distribution \"\"\"\n",
    "    plt.subplot(1, 3, 1)\n",
    "    plt.plot(range(len(degree)),degree,'b.')   \n",
    "    plt.loglog()\n",
    "    plt.xlim((min(degree), max(degree)))\n",
    "    plt.xlabel('Degree')\n",
    "    plt.ylabel('P(k)')\n",
    "\n",
    "\n",
    "    \"\"\" Plot CDF \"\"\"\n",
    "    plt.subplot(1, 3, 2)\n",
    "    fit.plot_cdf()\n",
    "    plt.xlabel(\"Degree\")\n",
    "    plt.ylabel('CDF')\n",
    "\n",
    "    \"\"\" Plot CCDF \"\"\"\n",
    "    plt.subplot(1, 3, 3)\n",
    "    fit.power_law.plot_pdf(color='r',linestyle='--',label='fit ccdf')\n",
    "    fit.plot_ccdf()\n",
    "    plt.ylabel('CCDF')\n",
    "    plt.xlabel('Degree')\n",
    "    plt.tight_layout()\n",
    "    #plt.savefig(path_img+directory+\"/degree_distribution_compare_\"+name+\".png\")\n",
    "    plt.show()\n",
    "    print(f'alpha={fit.power_law.alpha+1} sigma={fit.power_law.sigma}')\n",
    "    "
   ]
  },
  {
   "cell_type": "code",
   "execution_count": 28,
   "metadata": {},
   "outputs": [
    {
     "name": "stderr",
     "output_type": "stream",
     "text": [
      "/var/folders/7r/_sxj1fdj35s2vf0dwxh35nnc0000gn/T/ipykernel_74589/3883290758.py:5: DeprecationWarning: \n",
      "\n",
      "The scipy.sparse array containers will be used instead of matrices\n",
      "in Networkx 3.0. Use `to_scipy_sparse_array` instead.\n",
      "  M = nx.to_scipy_sparse_matrix(G)\n"
     ]
    },
    {
     "name": "stdout",
     "output_type": "stream",
     "text": [
      "Calculating best minimal value for power law fit\n",
      "xmin progress: 00%\r",
      "xmin progress: 02%\r",
      "xmin progress: 04%\r",
      "xmin progress: 06%\r",
      "xmin progress: 08%\r",
      "xmin progress: 10%\r",
      "xmin progress: 12%\r",
      "xmin progress: 14%\r",
      "xmin progress: 17%\r",
      "xmin progress: 19%\r",
      "xmin progress: 21%\r",
      "xmin progress: 23%\r",
      "xmin progress: 25%\r",
      "xmin progress: 27%\r",
      "xmin progress: 29%\r",
      "xmin progress: 31%\r",
      "xmin progress: 34%\r",
      "xmin progress: 36%\r",
      "xmin progress: 38%\r",
      "xmin progress: 40%\r",
      "xmin progress: 42%\r",
      "xmin progress: 44%\r",
      "xmin progress: 46%\r",
      "xmin progress: 48%\r",
      "xmin progress: 51%\r",
      "xmin progress: 53%\r",
      "xmin progress: 55%\r",
      "xmin progress: 57%\r",
      "xmin progress: 59%\r",
      "xmin progress: 61%\r",
      "xmin progress: 63%\r",
      "xmin progress: 65%\r",
      "xmin progress: 68%\r",
      "xmin progress: 70%\r",
      "xmin progress: 72%\r",
      "xmin progress: 74%\r",
      "xmin progress: 76%\r",
      "xmin progress: 78%\r",
      "xmin progress: 80%\r",
      "xmin progress: 82%\r",
      "xmin progress: 85%\r",
      "xmin progress: 87%\r",
      "xmin progress: 89%\r",
      "xmin progress: 91%\r",
      "xmin progress: 93%\r",
      "xmin progress: 95%\r",
      "xmin progress: 97%\r",
      "**** Degree Distribution for Barabasi_Albert graph ****\n"
     ]
    },
    {
     "name": "stderr",
     "output_type": "stream",
     "text": [
      "/var/folders/7r/_sxj1fdj35s2vf0dwxh35nnc0000gn/T/ipykernel_74589/3883290758.py:18: UserWarning: Attempted to set non-positive left xlim on a log-scaled axis.\n",
      "Invalid limit will be ignored.\n",
      "  plt.xlim((min(degree), max(degree)))\n"
     ]
    },
    {
     "data": {
      "image/png": "[encoded data removed]",
      "text/plain": [
       "<Figure size 1152x432 with 3 Axes>"
      ]
     },
     "metadata": {
      "needs_background": "light"
     },
     "output_type": "display_data"
    },
    {
     "name": "stdout",
     "output_type": "stream",
     "text": [
      "alpha=2.580100341045664 sigma=0.05772214133939339\n"
     ]
    }
   ],
   "source": [
    "plot_dist(ba_G, \"Barabasi_Albert\", \"BA\")"
   ]
  },
  {
   "cell_type": "code",
   "execution_count": 29,
   "metadata": {},
   "outputs": [],
   "source": [
    "def info_degree(G, name):\n",
    "    print(f\"***** Degree info for {name} graph ***\")\n",
    "    degree_sequence = sorted([(d, n) for n, d in G.degree()], reverse=True)\n",
    "    dmax = max(degree_sequence)\n",
    "    print(\"Maximum degree:\", dmax)\n",
    "    dmin = min(degree_sequence)\n",
    "    print(\"Minimum degree:\", dmin)"
   ]
  },
  {
   "cell_type": "code",
   "execution_count": 30,
   "metadata": {},
   "outputs": [
    {
     "name": "stdout",
     "output_type": "stream",
     "text": [
      "***** Degree info for Barabasi_Albert graph ***\n",
      "Maximum degree: (618, 0)\n",
      "Minimum degree: (7, 1607)\n"
     ]
    }
   ],
   "source": [
    "info_degree(ba_G , \"Barabasi_Albert\")"
   ]
  },
  {
   "cell_type": "markdown",
   "metadata": {},
   "source": [
    "## 2 - Connected Components"
   ]
  },
  {
   "cell_type": "code",
   "execution_count": 31,
   "metadata": {},
   "outputs": [],
   "source": [
    "def n_connected_components(G, name):\n",
    "    print(f\"**** Connected components for {name} graph ****\")\n",
    "    # list of connected components\n",
    "    n_connected_component = list(nx.connected_components(G))\n",
    "    print(f\"Number of Connected Components for {name}: {len(n_connected_component)}\")\n",
    "    for i in range(len(n_connected_component)):\n",
    "        if i < 3:\n",
    "            print(f\"\\t component len = {len(n_connected_component[i])}\")\n",
    "    # Giant component -> Identify and store giant component\n",
    "    H = nx.Graph()\n",
    "    H = nx.subgraph(G,n_connected_component[0])\n",
    "    nx.write_graphml(G, path_graph+\"/giant_component/\"+ name+\".graphml\")\n",
    "    return n_connected_component"
   ]
  },
  {
   "cell_type": "code",
   "execution_count": 32,
   "metadata": {},
   "outputs": [
    {
     "name": "stdout",
     "output_type": "stream",
     "text": [
      "**** Connected components for Barabasi_Albert graph ****\n",
      "Number of Connected Components for Barabasi_Albert: 1\n",
      "\t component len = 13904\n"
     ]
    }
   ],
   "source": [
    "components = n_connected_components(ba_G , \"Barabasi_Albert\")"
   ]
  },
  {
   "cell_type": "markdown",
   "metadata": {},
   "source": [
    "## 3 - Path Analysis"
   ]
  },
  {
   "cell_type": "code",
   "execution_count": 33,
   "metadata": {},
   "outputs": [],
   "source": [
    "def path_analysis(G, name, components):\n",
    "    print(f\"***** Path analysis for {name} graph\")\n",
    "    print(f\"Diameter for components 0 network {name}: {nx.diameter(G.subgraph(components[0]))}\")\n",
    "    print(f\"Average shortest path for components 0 network {name}: {nx.average_shortest_path_length(G.subgraph(components[0]))}\")"
   ]
  },
  {
   "cell_type": "code",
   "execution_count": 34,
   "metadata": {},
   "outputs": [
    {
     "name": "stdout",
     "output_type": "stream",
     "text": [
      "***** Path analysis for Barabasi_Albert graph\n",
      "Diameter for components 0 network Barabasi_Albert: 5\n",
      "Average shortest path for components 0 network Barabasi_Albert: 3.4421003174468643\n"
     ]
    }
   ],
   "source": [
    "path_analysis(ba_G , \"Barabasi_Albert\", components)"
   ]
  },
  {
   "cell_type": "markdown",
   "metadata": {},
   "source": [
    "## 4 - Clustering Coefficient"
   ]
  },
  {
   "cell_type": "code",
   "execution_count": 35,
   "metadata": {},
   "outputs": [],
   "source": [
    "def c_coefficient_analysis(G, name):\n",
    "    #avg_clust_coeff(G, name)\n",
    "    clustering_g = nx.clustering(G)\n",
    "    print(f\"*** Clustering coefficient analyssi for {name} graph ***\")\n",
    "    #print(f\"CC: {clustering_g.values()}\")\n",
    "    print(f\"Min: {min(clustering_g.values())}\")\n",
    "    print(f\"Max: {max(clustering_g.values())}\")\n",
    "    print(f\"Mean: {mean(clustering_g.values())}\")\n",
    "    print(f\"Stdev: {stdev(clustering_g.values())}\")\n",
    "    return (name, clustering_g.values())"
   ]
  },
  {
   "cell_type": "code",
   "execution_count": 36,
   "metadata": {
    "scrolled": true
   },
   "outputs": [
    {
     "name": "stdout",
     "output_type": "stream",
     "text": [
      "*** Clustering coefficient analyssi for Barabasi_Albert graph ***\n",
      "Min: 0\n",
      "Max: 0.23809523809523808\n",
      "Mean: 0.006761738929814013\n",
      "Stdev: 0.016134076946563988\n"
     ]
    }
   ],
   "source": [
    "name, values = c_coefficient_analysis(ba_G , \"Barabasi_Albert\")"
   ]
  },
  {
   "cell_type": "code",
   "execution_count": 37,
   "metadata": {},
   "outputs": [],
   "source": [
    "def degree_clustering(G, name, directory):\n",
    "    print(f\"**** Distribution degree/clustering for {name} graph ***\")\n",
    "    degrees = G.degree()\n",
    "    local_clustering_coefficient= []\n",
    "    degree = []\n",
    "\n",
    "    for d in degrees:\n",
    "        local_clustering_coefficient.append(nx.clustering(G,d[0]))\n",
    "        #print(local_clustering_coefficient)\n",
    "        degree.append(d[1])\n",
    "        \n",
    "    plt.figure(figsize=(20,5))\n",
    "    plt.scatter(degree, local_clustering_coefficient)\n",
    "\n",
    "    plt.xlabel(\"k\")\n",
    "    plt.ylabel(\"C(k)\")\n",
    "    #plt.savefig(path_img+directory+\"/degree_clustering_\"+name+\".png\")\n",
    "    plt.show()"
   ]
  },
  {
   "cell_type": "code",
   "execution_count": 38,
   "metadata": {},
   "outputs": [
    {
     "name": "stdout",
     "output_type": "stream",
     "text": [
      "**** Distribution degree/clustering for Barabasi_Albert graph ***\n"
     ]
    },
    {
     "data": {
      "image/png": "[encoded data removed]",
      "text/plain": [
       "<Figure size 1440x360 with 1 Axes>"
      ]
     },
     "metadata": {
      "needs_background": "light"
     },
     "output_type": "display_data"
    }
   ],
   "source": [
    "degree_clustering(ba_G , \"Barabasi_Albert\", \"BA\")"
   ]
  },
  {
   "cell_type": "markdown",
   "metadata": {},
   "source": [
    "## 5 - Density Analysis"
   ]
  },
  {
   "cell_type": "code",
   "execution_count": 39,
   "metadata": {},
   "outputs": [],
   "source": [
    "def density_analysis(G, name):\n",
    "    print(f\"Density for {name} graph: {nx.density(G)}\")"
   ]
  },
  {
   "cell_type": "code",
   "execution_count": 40,
   "metadata": {},
   "outputs": [
    {
     "name": "stdout",
     "output_type": "stream",
     "text": [
      "Density for Barabasi_Albert graph: 0.0010064699466722708\n"
     ]
    }
   ],
   "source": [
    "density_analysis(ba_G , \"Barabasi_Albert\")"
   ]
  },
  {
   "cell_type": "code",
   "execution_count": null,
   "metadata": {},
   "outputs": [],
   "source": []
  },
  {
   "cell_type": "code",
   "execution_count": null,
   "metadata": {},
   "outputs": [],
   "source": []
  },
  {
   "cell_type": "code",
   "execution_count": null,
   "metadata": {},
   "outputs": [],
   "source": []
  }
 ],
 "metadata": {
  "kernelspec": {
   "display_name": "Python 3 (ipykernel)",
   "language": "python",
   "name": "python3"
  },
  "language_info": {
   "codemirror_mode": {
    "name": "ipython",
    "version": 3
   },
   "file_extension": ".py",
   "mimetype": "text/x-python",
   "name": "python",
   "nbconvert_exporter": "python",
   "pygments_lexer": "ipython3",
   "version": "3.9.13"
  }
 },
 "nbformat": 4,
 "nbformat_minor": 4
}
